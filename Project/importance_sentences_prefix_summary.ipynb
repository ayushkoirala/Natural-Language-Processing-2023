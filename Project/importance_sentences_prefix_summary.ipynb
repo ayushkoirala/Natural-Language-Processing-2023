{
  "nbformat": 4,
  "nbformat_minor": 0,
  "metadata": {
    "colab": {
      "provenance": []
    },
    "kernelspec": {
      "name": "python3",
      "display_name": "Python 3"
    },
    "language_info": {
      "name": "python"
    },
    "accelerator": "GPU",
    "gpuClass": "standard",
    "widgets": {
      "application/vnd.jupyter.widget-state+json": {
        "d6a50f017b124b9ca57145af16d60220": {
          "model_module": "@jupyter-widgets/controls",
          "model_name": "HBoxModel",
          "model_module_version": "1.5.0",
          "state": {
            "_dom_classes": [],
            "_model_module": "@jupyter-widgets/controls",
            "_model_module_version": "1.5.0",
            "_model_name": "HBoxModel",
            "_view_count": null,
            "_view_module": "@jupyter-widgets/controls",
            "_view_module_version": "1.5.0",
            "_view_name": "HBoxView",
            "box_style": "",
            "children": [
              "IPY_MODEL_62bf435bd8ce42c9b9e0473de80bfa6c",
              "IPY_MODEL_09b13e3d8f894020bd2ff3ab09f090c5",
              "IPY_MODEL_66ba6a92c3d64ba0b6d3490fa21abfcb"
            ],
            "layout": "IPY_MODEL_f85afafb3726401caba594f2b375b59e"
          }
        },
        "62bf435bd8ce42c9b9e0473de80bfa6c": {
          "model_module": "@jupyter-widgets/controls",
          "model_name": "HTMLModel",
          "model_module_version": "1.5.0",
          "state": {
            "_dom_classes": [],
            "_model_module": "@jupyter-widgets/controls",
            "_model_module_version": "1.5.0",
            "_model_name": "HTMLModel",
            "_view_count": null,
            "_view_module": "@jupyter-widgets/controls",
            "_view_module_version": "1.5.0",
            "_view_name": "HTMLView",
            "description": "",
            "description_tooltip": null,
            "layout": "IPY_MODEL_c84df7c5884b48f9bc823fa9d35b0418",
            "placeholder": "​",
            "style": "IPY_MODEL_8e6a4bbeda314885a3d879c7e06a0850",
            "value": "100%"
          }
        },
        "09b13e3d8f894020bd2ff3ab09f090c5": {
          "model_module": "@jupyter-widgets/controls",
          "model_name": "FloatProgressModel",
          "model_module_version": "1.5.0",
          "state": {
            "_dom_classes": [],
            "_model_module": "@jupyter-widgets/controls",
            "_model_module_version": "1.5.0",
            "_model_name": "FloatProgressModel",
            "_view_count": null,
            "_view_module": "@jupyter-widgets/controls",
            "_view_module_version": "1.5.0",
            "_view_name": "ProgressView",
            "bar_style": "success",
            "description": "",
            "description_tooltip": null,
            "layout": "IPY_MODEL_6ec17eea9e19490e92a34431b8e54dfb",
            "max": 3,
            "min": 0,
            "orientation": "horizontal",
            "style": "IPY_MODEL_5bc212c02b7542df97da9bdd69f7672c",
            "value": 3
          }
        },
        "66ba6a92c3d64ba0b6d3490fa21abfcb": {
          "model_module": "@jupyter-widgets/controls",
          "model_name": "HTMLModel",
          "model_module_version": "1.5.0",
          "state": {
            "_dom_classes": [],
            "_model_module": "@jupyter-widgets/controls",
            "_model_module_version": "1.5.0",
            "_model_name": "HTMLModel",
            "_view_count": null,
            "_view_module": "@jupyter-widgets/controls",
            "_view_module_version": "1.5.0",
            "_view_name": "HTMLView",
            "description": "",
            "description_tooltip": null,
            "layout": "IPY_MODEL_15eb31ae1bf049a1814165bbf570d1de",
            "placeholder": "​",
            "style": "IPY_MODEL_3157d8656a7840ce82df7a23b0103c6c",
            "value": " 3/3 [00:01&lt;00:00,  1.10it/s]"
          }
        },
        "f85afafb3726401caba594f2b375b59e": {
          "model_module": "@jupyter-widgets/base",
          "model_name": "LayoutModel",
          "model_module_version": "1.2.0",
          "state": {
            "_model_module": "@jupyter-widgets/base",
            "_model_module_version": "1.2.0",
            "_model_name": "LayoutModel",
            "_view_count": null,
            "_view_module": "@jupyter-widgets/base",
            "_view_module_version": "1.2.0",
            "_view_name": "LayoutView",
            "align_content": null,
            "align_items": null,
            "align_self": null,
            "border": null,
            "bottom": null,
            "display": null,
            "flex": null,
            "flex_flow": null,
            "grid_area": null,
            "grid_auto_columns": null,
            "grid_auto_flow": null,
            "grid_auto_rows": null,
            "grid_column": null,
            "grid_gap": null,
            "grid_row": null,
            "grid_template_areas": null,
            "grid_template_columns": null,
            "grid_template_rows": null,
            "height": null,
            "justify_content": null,
            "justify_items": null,
            "left": null,
            "margin": null,
            "max_height": null,
            "max_width": null,
            "min_height": null,
            "min_width": null,
            "object_fit": null,
            "object_position": null,
            "order": null,
            "overflow": null,
            "overflow_x": null,
            "overflow_y": null,
            "padding": null,
            "right": null,
            "top": null,
            "visibility": null,
            "width": null
          }
        },
        "c84df7c5884b48f9bc823fa9d35b0418": {
          "model_module": "@jupyter-widgets/base",
          "model_name": "LayoutModel",
          "model_module_version": "1.2.0",
          "state": {
            "_model_module": "@jupyter-widgets/base",
            "_model_module_version": "1.2.0",
            "_model_name": "LayoutModel",
            "_view_count": null,
            "_view_module": "@jupyter-widgets/base",
            "_view_module_version": "1.2.0",
            "_view_name": "LayoutView",
            "align_content": null,
            "align_items": null,
            "align_self": null,
            "border": null,
            "bottom": null,
            "display": null,
            "flex": null,
            "flex_flow": null,
            "grid_area": null,
            "grid_auto_columns": null,
            "grid_auto_flow": null,
            "grid_auto_rows": null,
            "grid_column": null,
            "grid_gap": null,
            "grid_row": null,
            "grid_template_areas": null,
            "grid_template_columns": null,
            "grid_template_rows": null,
            "height": null,
            "justify_content": null,
            "justify_items": null,
            "left": null,
            "margin": null,
            "max_height": null,
            "max_width": null,
            "min_height": null,
            "min_width": null,
            "object_fit": null,
            "object_position": null,
            "order": null,
            "overflow": null,
            "overflow_x": null,
            "overflow_y": null,
            "padding": null,
            "right": null,
            "top": null,
            "visibility": null,
            "width": null
          }
        },
        "8e6a4bbeda314885a3d879c7e06a0850": {
          "model_module": "@jupyter-widgets/controls",
          "model_name": "DescriptionStyleModel",
          "model_module_version": "1.5.0",
          "state": {
            "_model_module": "@jupyter-widgets/controls",
            "_model_module_version": "1.5.0",
            "_model_name": "DescriptionStyleModel",
            "_view_count": null,
            "_view_module": "@jupyter-widgets/base",
            "_view_module_version": "1.2.0",
            "_view_name": "StyleView",
            "description_width": ""
          }
        },
        "6ec17eea9e19490e92a34431b8e54dfb": {
          "model_module": "@jupyter-widgets/base",
          "model_name": "LayoutModel",
          "model_module_version": "1.2.0",
          "state": {
            "_model_module": "@jupyter-widgets/base",
            "_model_module_version": "1.2.0",
            "_model_name": "LayoutModel",
            "_view_count": null,
            "_view_module": "@jupyter-widgets/base",
            "_view_module_version": "1.2.0",
            "_view_name": "LayoutView",
            "align_content": null,
            "align_items": null,
            "align_self": null,
            "border": null,
            "bottom": null,
            "display": null,
            "flex": null,
            "flex_flow": null,
            "grid_area": null,
            "grid_auto_columns": null,
            "grid_auto_flow": null,
            "grid_auto_rows": null,
            "grid_column": null,
            "grid_gap": null,
            "grid_row": null,
            "grid_template_areas": null,
            "grid_template_columns": null,
            "grid_template_rows": null,
            "height": null,
            "justify_content": null,
            "justify_items": null,
            "left": null,
            "margin": null,
            "max_height": null,
            "max_width": null,
            "min_height": null,
            "min_width": null,
            "object_fit": null,
            "object_position": null,
            "order": null,
            "overflow": null,
            "overflow_x": null,
            "overflow_y": null,
            "padding": null,
            "right": null,
            "top": null,
            "visibility": null,
            "width": null
          }
        },
        "5bc212c02b7542df97da9bdd69f7672c": {
          "model_module": "@jupyter-widgets/controls",
          "model_name": "ProgressStyleModel",
          "model_module_version": "1.5.0",
          "state": {
            "_model_module": "@jupyter-widgets/controls",
            "_model_module_version": "1.5.0",
            "_model_name": "ProgressStyleModel",
            "_view_count": null,
            "_view_module": "@jupyter-widgets/base",
            "_view_module_version": "1.2.0",
            "_view_name": "StyleView",
            "bar_color": null,
            "description_width": ""
          }
        },
        "15eb31ae1bf049a1814165bbf570d1de": {
          "model_module": "@jupyter-widgets/base",
          "model_name": "LayoutModel",
          "model_module_version": "1.2.0",
          "state": {
            "_model_module": "@jupyter-widgets/base",
            "_model_module_version": "1.2.0",
            "_model_name": "LayoutModel",
            "_view_count": null,
            "_view_module": "@jupyter-widgets/base",
            "_view_module_version": "1.2.0",
            "_view_name": "LayoutView",
            "align_content": null,
            "align_items": null,
            "align_self": null,
            "border": null,
            "bottom": null,
            "display": null,
            "flex": null,
            "flex_flow": null,
            "grid_area": null,
            "grid_auto_columns": null,
            "grid_auto_flow": null,
            "grid_auto_rows": null,
            "grid_column": null,
            "grid_gap": null,
            "grid_row": null,
            "grid_template_areas": null,
            "grid_template_columns": null,
            "grid_template_rows": null,
            "height": null,
            "justify_content": null,
            "justify_items": null,
            "left": null,
            "margin": null,
            "max_height": null,
            "max_width": null,
            "min_height": null,
            "min_width": null,
            "object_fit": null,
            "object_position": null,
            "order": null,
            "overflow": null,
            "overflow_x": null,
            "overflow_y": null,
            "padding": null,
            "right": null,
            "top": null,
            "visibility": null,
            "width": null
          }
        },
        "3157d8656a7840ce82df7a23b0103c6c": {
          "model_module": "@jupyter-widgets/controls",
          "model_name": "DescriptionStyleModel",
          "model_module_version": "1.5.0",
          "state": {
            "_model_module": "@jupyter-widgets/controls",
            "_model_module_version": "1.5.0",
            "_model_name": "DescriptionStyleModel",
            "_view_count": null,
            "_view_module": "@jupyter-widgets/base",
            "_view_module_version": "1.2.0",
            "_view_name": "StyleView",
            "description_width": ""
          }
        },
        "c919ac2feb744e90a7ceda1ee090e148": {
          "model_module": "@jupyter-widgets/controls",
          "model_name": "HBoxModel",
          "model_module_version": "1.5.0",
          "state": {
            "_dom_classes": [],
            "_model_module": "@jupyter-widgets/controls",
            "_model_module_version": "1.5.0",
            "_model_name": "HBoxModel",
            "_view_count": null,
            "_view_module": "@jupyter-widgets/controls",
            "_view_module_version": "1.5.0",
            "_view_name": "HBoxView",
            "box_style": "",
            "children": [
              "IPY_MODEL_89a1b424c5114510ab7733f46145dd70",
              "IPY_MODEL_6ca20f89bb7a43fdb339842c236e262e",
              "IPY_MODEL_f0963c5e4e1e4f0f93a7c9493c81943f"
            ],
            "layout": "IPY_MODEL_2bbf34a5213943c58afdc4d29a459f44"
          }
        },
        "89a1b424c5114510ab7733f46145dd70": {
          "model_module": "@jupyter-widgets/controls",
          "model_name": "HTMLModel",
          "model_module_version": "1.5.0",
          "state": {
            "_dom_classes": [],
            "_model_module": "@jupyter-widgets/controls",
            "_model_module_version": "1.5.0",
            "_model_name": "HTMLModel",
            "_view_count": null,
            "_view_module": "@jupyter-widgets/controls",
            "_view_module_version": "1.5.0",
            "_view_name": "HTMLView",
            "description": "",
            "description_tooltip": null,
            "layout": "IPY_MODEL_57bc5a33fc4a4f96b33ad2fa5f3a7250",
            "placeholder": "​",
            "style": "IPY_MODEL_e00992eb9da74f4c82bf14cf1f2095ad",
            "value": "Map:  47%"
          }
        },
        "6ca20f89bb7a43fdb339842c236e262e": {
          "model_module": "@jupyter-widgets/controls",
          "model_name": "FloatProgressModel",
          "model_module_version": "1.5.0",
          "state": {
            "_dom_classes": [],
            "_model_module": "@jupyter-widgets/controls",
            "_model_module_version": "1.5.0",
            "_model_name": "FloatProgressModel",
            "_view_count": null,
            "_view_module": "@jupyter-widgets/controls",
            "_view_module_version": "1.5.0",
            "_view_name": "ProgressView",
            "bar_style": "",
            "description": "",
            "description_tooltip": null,
            "layout": "IPY_MODEL_0c0f81dc219849df982a4d9f4e01d110",
            "max": 100,
            "min": 0,
            "orientation": "horizontal",
            "style": "IPY_MODEL_4f394913d0ad4aceb5009dd8a5c379e3",
            "value": 47
          }
        },
        "f0963c5e4e1e4f0f93a7c9493c81943f": {
          "model_module": "@jupyter-widgets/controls",
          "model_name": "HTMLModel",
          "model_module_version": "1.5.0",
          "state": {
            "_dom_classes": [],
            "_model_module": "@jupyter-widgets/controls",
            "_model_module_version": "1.5.0",
            "_model_name": "HTMLModel",
            "_view_count": null,
            "_view_module": "@jupyter-widgets/controls",
            "_view_module_version": "1.5.0",
            "_view_name": "HTMLView",
            "description": "",
            "description_tooltip": null,
            "layout": "IPY_MODEL_2c0635cc8e764f2b9786b0d8bc916b2b",
            "placeholder": "​",
            "style": "IPY_MODEL_955b429f541a4472b4a780300a352bad",
            "value": " 47/100 [00:31&lt;00:30,  1.76 examples/s]"
          }
        },
        "2bbf34a5213943c58afdc4d29a459f44": {
          "model_module": "@jupyter-widgets/base",
          "model_name": "LayoutModel",
          "model_module_version": "1.2.0",
          "state": {
            "_model_module": "@jupyter-widgets/base",
            "_model_module_version": "1.2.0",
            "_model_name": "LayoutModel",
            "_view_count": null,
            "_view_module": "@jupyter-widgets/base",
            "_view_module_version": "1.2.0",
            "_view_name": "LayoutView",
            "align_content": null,
            "align_items": null,
            "align_self": null,
            "border": null,
            "bottom": null,
            "display": null,
            "flex": null,
            "flex_flow": null,
            "grid_area": null,
            "grid_auto_columns": null,
            "grid_auto_flow": null,
            "grid_auto_rows": null,
            "grid_column": null,
            "grid_gap": null,
            "grid_row": null,
            "grid_template_areas": null,
            "grid_template_columns": null,
            "grid_template_rows": null,
            "height": null,
            "justify_content": null,
            "justify_items": null,
            "left": null,
            "margin": null,
            "max_height": null,
            "max_width": null,
            "min_height": null,
            "min_width": null,
            "object_fit": null,
            "object_position": null,
            "order": null,
            "overflow": null,
            "overflow_x": null,
            "overflow_y": null,
            "padding": null,
            "right": null,
            "top": null,
            "visibility": null,
            "width": null
          }
        },
        "57bc5a33fc4a4f96b33ad2fa5f3a7250": {
          "model_module": "@jupyter-widgets/base",
          "model_name": "LayoutModel",
          "model_module_version": "1.2.0",
          "state": {
            "_model_module": "@jupyter-widgets/base",
            "_model_module_version": "1.2.0",
            "_model_name": "LayoutModel",
            "_view_count": null,
            "_view_module": "@jupyter-widgets/base",
            "_view_module_version": "1.2.0",
            "_view_name": "LayoutView",
            "align_content": null,
            "align_items": null,
            "align_self": null,
            "border": null,
            "bottom": null,
            "display": null,
            "flex": null,
            "flex_flow": null,
            "grid_area": null,
            "grid_auto_columns": null,
            "grid_auto_flow": null,
            "grid_auto_rows": null,
            "grid_column": null,
            "grid_gap": null,
            "grid_row": null,
            "grid_template_areas": null,
            "grid_template_columns": null,
            "grid_template_rows": null,
            "height": null,
            "justify_content": null,
            "justify_items": null,
            "left": null,
            "margin": null,
            "max_height": null,
            "max_width": null,
            "min_height": null,
            "min_width": null,
            "object_fit": null,
            "object_position": null,
            "order": null,
            "overflow": null,
            "overflow_x": null,
            "overflow_y": null,
            "padding": null,
            "right": null,
            "top": null,
            "visibility": null,
            "width": null
          }
        },
        "e00992eb9da74f4c82bf14cf1f2095ad": {
          "model_module": "@jupyter-widgets/controls",
          "model_name": "DescriptionStyleModel",
          "model_module_version": "1.5.0",
          "state": {
            "_model_module": "@jupyter-widgets/controls",
            "_model_module_version": "1.5.0",
            "_model_name": "DescriptionStyleModel",
            "_view_count": null,
            "_view_module": "@jupyter-widgets/base",
            "_view_module_version": "1.2.0",
            "_view_name": "StyleView",
            "description_width": ""
          }
        },
        "0c0f81dc219849df982a4d9f4e01d110": {
          "model_module": "@jupyter-widgets/base",
          "model_name": "LayoutModel",
          "model_module_version": "1.2.0",
          "state": {
            "_model_module": "@jupyter-widgets/base",
            "_model_module_version": "1.2.0",
            "_model_name": "LayoutModel",
            "_view_count": null,
            "_view_module": "@jupyter-widgets/base",
            "_view_module_version": "1.2.0",
            "_view_name": "LayoutView",
            "align_content": null,
            "align_items": null,
            "align_self": null,
            "border": null,
            "bottom": null,
            "display": null,
            "flex": null,
            "flex_flow": null,
            "grid_area": null,
            "grid_auto_columns": null,
            "grid_auto_flow": null,
            "grid_auto_rows": null,
            "grid_column": null,
            "grid_gap": null,
            "grid_row": null,
            "grid_template_areas": null,
            "grid_template_columns": null,
            "grid_template_rows": null,
            "height": null,
            "justify_content": null,
            "justify_items": null,
            "left": null,
            "margin": null,
            "max_height": null,
            "max_width": null,
            "min_height": null,
            "min_width": null,
            "object_fit": null,
            "object_position": null,
            "order": null,
            "overflow": null,
            "overflow_x": null,
            "overflow_y": null,
            "padding": null,
            "right": null,
            "top": null,
            "visibility": null,
            "width": null
          }
        },
        "4f394913d0ad4aceb5009dd8a5c379e3": {
          "model_module": "@jupyter-widgets/controls",
          "model_name": "ProgressStyleModel",
          "model_module_version": "1.5.0",
          "state": {
            "_model_module": "@jupyter-widgets/controls",
            "_model_module_version": "1.5.0",
            "_model_name": "ProgressStyleModel",
            "_view_count": null,
            "_view_module": "@jupyter-widgets/base",
            "_view_module_version": "1.2.0",
            "_view_name": "StyleView",
            "bar_color": null,
            "description_width": ""
          }
        },
        "2c0635cc8e764f2b9786b0d8bc916b2b": {
          "model_module": "@jupyter-widgets/base",
          "model_name": "LayoutModel",
          "model_module_version": "1.2.0",
          "state": {
            "_model_module": "@jupyter-widgets/base",
            "_model_module_version": "1.2.0",
            "_model_name": "LayoutModel",
            "_view_count": null,
            "_view_module": "@jupyter-widgets/base",
            "_view_module_version": "1.2.0",
            "_view_name": "LayoutView",
            "align_content": null,
            "align_items": null,
            "align_self": null,
            "border": null,
            "bottom": null,
            "display": null,
            "flex": null,
            "flex_flow": null,
            "grid_area": null,
            "grid_auto_columns": null,
            "grid_auto_flow": null,
            "grid_auto_rows": null,
            "grid_column": null,
            "grid_gap": null,
            "grid_row": null,
            "grid_template_areas": null,
            "grid_template_columns": null,
            "grid_template_rows": null,
            "height": null,
            "justify_content": null,
            "justify_items": null,
            "left": null,
            "margin": null,
            "max_height": null,
            "max_width": null,
            "min_height": null,
            "min_width": null,
            "object_fit": null,
            "object_position": null,
            "order": null,
            "overflow": null,
            "overflow_x": null,
            "overflow_y": null,
            "padding": null,
            "right": null,
            "top": null,
            "visibility": null,
            "width": null
          }
        },
        "955b429f541a4472b4a780300a352bad": {
          "model_module": "@jupyter-widgets/controls",
          "model_name": "DescriptionStyleModel",
          "model_module_version": "1.5.0",
          "state": {
            "_model_module": "@jupyter-widgets/controls",
            "_model_module_version": "1.5.0",
            "_model_name": "DescriptionStyleModel",
            "_view_count": null,
            "_view_module": "@jupyter-widgets/base",
            "_view_module_version": "1.2.0",
            "_view_name": "StyleView",
            "description_width": ""
          }
        },
        "54a1bdf067694134b36be251fbfad1b3": {
          "model_module": "@jupyter-widgets/controls",
          "model_name": "HBoxModel",
          "model_module_version": "1.5.0",
          "state": {
            "_dom_classes": [],
            "_model_module": "@jupyter-widgets/controls",
            "_model_module_version": "1.5.0",
            "_model_name": "HBoxModel",
            "_view_count": null,
            "_view_module": "@jupyter-widgets/controls",
            "_view_module_version": "1.5.0",
            "_view_name": "HBoxView",
            "box_style": "",
            "children": [
              "IPY_MODEL_72c48e831b374d80b84ed4bc4814b9ed",
              "IPY_MODEL_68e8e6b3c22e4866a94236e5f94f8576",
              "IPY_MODEL_e48462a39dea4180a29ea7dcd3e70d77"
            ],
            "layout": "IPY_MODEL_3aabd2f820b0449f92d2aa35cdb41b9b"
          }
        },
        "72c48e831b374d80b84ed4bc4814b9ed": {
          "model_module": "@jupyter-widgets/controls",
          "model_name": "HTMLModel",
          "model_module_version": "1.5.0",
          "state": {
            "_dom_classes": [],
            "_model_module": "@jupyter-widgets/controls",
            "_model_module_version": "1.5.0",
            "_model_name": "HTMLModel",
            "_view_count": null,
            "_view_module": "@jupyter-widgets/controls",
            "_view_module_version": "1.5.0",
            "_view_name": "HTMLView",
            "description": "",
            "description_tooltip": null,
            "layout": "IPY_MODEL_175e5e0a1ebb4841beef7c98e9c220ac",
            "placeholder": "​",
            "style": "IPY_MODEL_ef20a49038694e039a091485e5671328",
            "value": "Map:  76%"
          }
        },
        "68e8e6b3c22e4866a94236e5f94f8576": {
          "model_module": "@jupyter-widgets/controls",
          "model_name": "FloatProgressModel",
          "model_module_version": "1.5.0",
          "state": {
            "_dom_classes": [],
            "_model_module": "@jupyter-widgets/controls",
            "_model_module_version": "1.5.0",
            "_model_name": "FloatProgressModel",
            "_view_count": null,
            "_view_module": "@jupyter-widgets/controls",
            "_view_module_version": "1.5.0",
            "_view_name": "ProgressView",
            "bar_style": "",
            "description": "",
            "description_tooltip": null,
            "layout": "IPY_MODEL_d3b05934a3864751a0848b1d80b69651",
            "max": 100,
            "min": 0,
            "orientation": "horizontal",
            "style": "IPY_MODEL_76f3358897ae47e5a1a0a9c736094394",
            "value": 100
          }
        },
        "e48462a39dea4180a29ea7dcd3e70d77": {
          "model_module": "@jupyter-widgets/controls",
          "model_name": "HTMLModel",
          "model_module_version": "1.5.0",
          "state": {
            "_dom_classes": [],
            "_model_module": "@jupyter-widgets/controls",
            "_model_module_version": "1.5.0",
            "_model_name": "HTMLModel",
            "_view_count": null,
            "_view_module": "@jupyter-widgets/controls",
            "_view_module_version": "1.5.0",
            "_view_name": "HTMLView",
            "description": "",
            "description_tooltip": null,
            "layout": "IPY_MODEL_203ba0a94cdf41719dbc079e500aade8",
            "placeholder": "​",
            "style": "IPY_MODEL_1952bc13e5314407b6eefc88a573482d",
            "value": " 76/100 [00:00&lt;00:00, 613.32 examples/s]"
          }
        },
        "3aabd2f820b0449f92d2aa35cdb41b9b": {
          "model_module": "@jupyter-widgets/base",
          "model_name": "LayoutModel",
          "model_module_version": "1.2.0",
          "state": {
            "_model_module": "@jupyter-widgets/base",
            "_model_module_version": "1.2.0",
            "_model_name": "LayoutModel",
            "_view_count": null,
            "_view_module": "@jupyter-widgets/base",
            "_view_module_version": "1.2.0",
            "_view_name": "LayoutView",
            "align_content": null,
            "align_items": null,
            "align_self": null,
            "border": null,
            "bottom": null,
            "display": null,
            "flex": null,
            "flex_flow": null,
            "grid_area": null,
            "grid_auto_columns": null,
            "grid_auto_flow": null,
            "grid_auto_rows": null,
            "grid_column": null,
            "grid_gap": null,
            "grid_row": null,
            "grid_template_areas": null,
            "grid_template_columns": null,
            "grid_template_rows": null,
            "height": null,
            "justify_content": null,
            "justify_items": null,
            "left": null,
            "margin": null,
            "max_height": null,
            "max_width": null,
            "min_height": null,
            "min_width": null,
            "object_fit": null,
            "object_position": null,
            "order": null,
            "overflow": null,
            "overflow_x": null,
            "overflow_y": null,
            "padding": null,
            "right": null,
            "top": null,
            "visibility": "hidden",
            "width": null
          }
        },
        "175e5e0a1ebb4841beef7c98e9c220ac": {
          "model_module": "@jupyter-widgets/base",
          "model_name": "LayoutModel",
          "model_module_version": "1.2.0",
          "state": {
            "_model_module": "@jupyter-widgets/base",
            "_model_module_version": "1.2.0",
            "_model_name": "LayoutModel",
            "_view_count": null,
            "_view_module": "@jupyter-widgets/base",
            "_view_module_version": "1.2.0",
            "_view_name": "LayoutView",
            "align_content": null,
            "align_items": null,
            "align_self": null,
            "border": null,
            "bottom": null,
            "display": null,
            "flex": null,
            "flex_flow": null,
            "grid_area": null,
            "grid_auto_columns": null,
            "grid_auto_flow": null,
            "grid_auto_rows": null,
            "grid_column": null,
            "grid_gap": null,
            "grid_row": null,
            "grid_template_areas": null,
            "grid_template_columns": null,
            "grid_template_rows": null,
            "height": null,
            "justify_content": null,
            "justify_items": null,
            "left": null,
            "margin": null,
            "max_height": null,
            "max_width": null,
            "min_height": null,
            "min_width": null,
            "object_fit": null,
            "object_position": null,
            "order": null,
            "overflow": null,
            "overflow_x": null,
            "overflow_y": null,
            "padding": null,
            "right": null,
            "top": null,
            "visibility": null,
            "width": null
          }
        },
        "ef20a49038694e039a091485e5671328": {
          "model_module": "@jupyter-widgets/controls",
          "model_name": "DescriptionStyleModel",
          "model_module_version": "1.5.0",
          "state": {
            "_model_module": "@jupyter-widgets/controls",
            "_model_module_version": "1.5.0",
            "_model_name": "DescriptionStyleModel",
            "_view_count": null,
            "_view_module": "@jupyter-widgets/base",
            "_view_module_version": "1.2.0",
            "_view_name": "StyleView",
            "description_width": ""
          }
        },
        "d3b05934a3864751a0848b1d80b69651": {
          "model_module": "@jupyter-widgets/base",
          "model_name": "LayoutModel",
          "model_module_version": "1.2.0",
          "state": {
            "_model_module": "@jupyter-widgets/base",
            "_model_module_version": "1.2.0",
            "_model_name": "LayoutModel",
            "_view_count": null,
            "_view_module": "@jupyter-widgets/base",
            "_view_module_version": "1.2.0",
            "_view_name": "LayoutView",
            "align_content": null,
            "align_items": null,
            "align_self": null,
            "border": null,
            "bottom": null,
            "display": null,
            "flex": null,
            "flex_flow": null,
            "grid_area": null,
            "grid_auto_columns": null,
            "grid_auto_flow": null,
            "grid_auto_rows": null,
            "grid_column": null,
            "grid_gap": null,
            "grid_row": null,
            "grid_template_areas": null,
            "grid_template_columns": null,
            "grid_template_rows": null,
            "height": null,
            "justify_content": null,
            "justify_items": null,
            "left": null,
            "margin": null,
            "max_height": null,
            "max_width": null,
            "min_height": null,
            "min_width": null,
            "object_fit": null,
            "object_position": null,
            "order": null,
            "overflow": null,
            "overflow_x": null,
            "overflow_y": null,
            "padding": null,
            "right": null,
            "top": null,
            "visibility": null,
            "width": null
          }
        },
        "76f3358897ae47e5a1a0a9c736094394": {
          "model_module": "@jupyter-widgets/controls",
          "model_name": "ProgressStyleModel",
          "model_module_version": "1.5.0",
          "state": {
            "_model_module": "@jupyter-widgets/controls",
            "_model_module_version": "1.5.0",
            "_model_name": "ProgressStyleModel",
            "_view_count": null,
            "_view_module": "@jupyter-widgets/base",
            "_view_module_version": "1.2.0",
            "_view_name": "StyleView",
            "bar_color": null,
            "description_width": ""
          }
        },
        "203ba0a94cdf41719dbc079e500aade8": {
          "model_module": "@jupyter-widgets/base",
          "model_name": "LayoutModel",
          "model_module_version": "1.2.0",
          "state": {
            "_model_module": "@jupyter-widgets/base",
            "_model_module_version": "1.2.0",
            "_model_name": "LayoutModel",
            "_view_count": null,
            "_view_module": "@jupyter-widgets/base",
            "_view_module_version": "1.2.0",
            "_view_name": "LayoutView",
            "align_content": null,
            "align_items": null,
            "align_self": null,
            "border": null,
            "bottom": null,
            "display": null,
            "flex": null,
            "flex_flow": null,
            "grid_area": null,
            "grid_auto_columns": null,
            "grid_auto_flow": null,
            "grid_auto_rows": null,
            "grid_column": null,
            "grid_gap": null,
            "grid_row": null,
            "grid_template_areas": null,
            "grid_template_columns": null,
            "grid_template_rows": null,
            "height": null,
            "justify_content": null,
            "justify_items": null,
            "left": null,
            "margin": null,
            "max_height": null,
            "max_width": null,
            "min_height": null,
            "min_width": null,
            "object_fit": null,
            "object_position": null,
            "order": null,
            "overflow": null,
            "overflow_x": null,
            "overflow_y": null,
            "padding": null,
            "right": null,
            "top": null,
            "visibility": null,
            "width": null
          }
        },
        "1952bc13e5314407b6eefc88a573482d": {
          "model_module": "@jupyter-widgets/controls",
          "model_name": "DescriptionStyleModel",
          "model_module_version": "1.5.0",
          "state": {
            "_model_module": "@jupyter-widgets/controls",
            "_model_module_version": "1.5.0",
            "_model_name": "DescriptionStyleModel",
            "_view_count": null,
            "_view_module": "@jupyter-widgets/base",
            "_view_module_version": "1.2.0",
            "_view_name": "StyleView",
            "description_width": ""
          }
        },
        "3d3e0ec9b8c04ec38e8057035469731d": {
          "model_module": "@jupyter-widgets/controls",
          "model_name": "HBoxModel",
          "model_module_version": "1.5.0",
          "state": {
            "_dom_classes": [],
            "_model_module": "@jupyter-widgets/controls",
            "_model_module_version": "1.5.0",
            "_model_name": "HBoxModel",
            "_view_count": null,
            "_view_module": "@jupyter-widgets/controls",
            "_view_module_version": "1.5.0",
            "_view_name": "HBoxView",
            "box_style": "",
            "children": [
              "IPY_MODEL_8791ad8c4c7a47509954631773bf5ba8",
              "IPY_MODEL_f4f559e5a2054881bc71a08c7ad31959",
              "IPY_MODEL_96c0e3645f5444f0a0e418a9c5856efe"
            ],
            "layout": "IPY_MODEL_578dc5591fa840bda06a0167ed356ec1"
          }
        },
        "8791ad8c4c7a47509954631773bf5ba8": {
          "model_module": "@jupyter-widgets/controls",
          "model_name": "HTMLModel",
          "model_module_version": "1.5.0",
          "state": {
            "_dom_classes": [],
            "_model_module": "@jupyter-widgets/controls",
            "_model_module_version": "1.5.0",
            "_model_name": "HTMLModel",
            "_view_count": null,
            "_view_module": "@jupyter-widgets/controls",
            "_view_module_version": "1.5.0",
            "_view_name": "HTMLView",
            "description": "",
            "description_tooltip": null,
            "layout": "IPY_MODEL_4fdd8dfae0254dc1b04e5af11d9e0785",
            "placeholder": "​",
            "style": "IPY_MODEL_2fd66b622f1e4767900a29f4b5c74075",
            "value": "Map:  82%"
          }
        },
        "f4f559e5a2054881bc71a08c7ad31959": {
          "model_module": "@jupyter-widgets/controls",
          "model_name": "FloatProgressModel",
          "model_module_version": "1.5.0",
          "state": {
            "_dom_classes": [],
            "_model_module": "@jupyter-widgets/controls",
            "_model_module_version": "1.5.0",
            "_model_name": "FloatProgressModel",
            "_view_count": null,
            "_view_module": "@jupyter-widgets/controls",
            "_view_module_version": "1.5.0",
            "_view_name": "ProgressView",
            "bar_style": "",
            "description": "",
            "description_tooltip": null,
            "layout": "IPY_MODEL_aad3272d4ff54062a25597a1caf26d3e",
            "max": 100,
            "min": 0,
            "orientation": "horizontal",
            "style": "IPY_MODEL_6499e14e21b94ca4a369ae75c632a86f",
            "value": 100
          }
        },
        "96c0e3645f5444f0a0e418a9c5856efe": {
          "model_module": "@jupyter-widgets/controls",
          "model_name": "HTMLModel",
          "model_module_version": "1.5.0",
          "state": {
            "_dom_classes": [],
            "_model_module": "@jupyter-widgets/controls",
            "_model_module_version": "1.5.0",
            "_model_name": "HTMLModel",
            "_view_count": null,
            "_view_module": "@jupyter-widgets/controls",
            "_view_module_version": "1.5.0",
            "_view_name": "HTMLView",
            "description": "",
            "description_tooltip": null,
            "layout": "IPY_MODEL_44b6c26266154cbdb29e1027c4f43f68",
            "placeholder": "​",
            "style": "IPY_MODEL_af7d421085074b2c90036d540ee2c03e",
            "value": " 82/100 [00:00&lt;00:00, 677.36 examples/s]"
          }
        },
        "578dc5591fa840bda06a0167ed356ec1": {
          "model_module": "@jupyter-widgets/base",
          "model_name": "LayoutModel",
          "model_module_version": "1.2.0",
          "state": {
            "_model_module": "@jupyter-widgets/base",
            "_model_module_version": "1.2.0",
            "_model_name": "LayoutModel",
            "_view_count": null,
            "_view_module": "@jupyter-widgets/base",
            "_view_module_version": "1.2.0",
            "_view_name": "LayoutView",
            "align_content": null,
            "align_items": null,
            "align_self": null,
            "border": null,
            "bottom": null,
            "display": null,
            "flex": null,
            "flex_flow": null,
            "grid_area": null,
            "grid_auto_columns": null,
            "grid_auto_flow": null,
            "grid_auto_rows": null,
            "grid_column": null,
            "grid_gap": null,
            "grid_row": null,
            "grid_template_areas": null,
            "grid_template_columns": null,
            "grid_template_rows": null,
            "height": null,
            "justify_content": null,
            "justify_items": null,
            "left": null,
            "margin": null,
            "max_height": null,
            "max_width": null,
            "min_height": null,
            "min_width": null,
            "object_fit": null,
            "object_position": null,
            "order": null,
            "overflow": null,
            "overflow_x": null,
            "overflow_y": null,
            "padding": null,
            "right": null,
            "top": null,
            "visibility": "hidden",
            "width": null
          }
        },
        "4fdd8dfae0254dc1b04e5af11d9e0785": {
          "model_module": "@jupyter-widgets/base",
          "model_name": "LayoutModel",
          "model_module_version": "1.2.0",
          "state": {
            "_model_module": "@jupyter-widgets/base",
            "_model_module_version": "1.2.0",
            "_model_name": "LayoutModel",
            "_view_count": null,
            "_view_module": "@jupyter-widgets/base",
            "_view_module_version": "1.2.0",
            "_view_name": "LayoutView",
            "align_content": null,
            "align_items": null,
            "align_self": null,
            "border": null,
            "bottom": null,
            "display": null,
            "flex": null,
            "flex_flow": null,
            "grid_area": null,
            "grid_auto_columns": null,
            "grid_auto_flow": null,
            "grid_auto_rows": null,
            "grid_column": null,
            "grid_gap": null,
            "grid_row": null,
            "grid_template_areas": null,
            "grid_template_columns": null,
            "grid_template_rows": null,
            "height": null,
            "justify_content": null,
            "justify_items": null,
            "left": null,
            "margin": null,
            "max_height": null,
            "max_width": null,
            "min_height": null,
            "min_width": null,
            "object_fit": null,
            "object_position": null,
            "order": null,
            "overflow": null,
            "overflow_x": null,
            "overflow_y": null,
            "padding": null,
            "right": null,
            "top": null,
            "visibility": null,
            "width": null
          }
        },
        "2fd66b622f1e4767900a29f4b5c74075": {
          "model_module": "@jupyter-widgets/controls",
          "model_name": "DescriptionStyleModel",
          "model_module_version": "1.5.0",
          "state": {
            "_model_module": "@jupyter-widgets/controls",
            "_model_module_version": "1.5.0",
            "_model_name": "DescriptionStyleModel",
            "_view_count": null,
            "_view_module": "@jupyter-widgets/base",
            "_view_module_version": "1.2.0",
            "_view_name": "StyleView",
            "description_width": ""
          }
        },
        "aad3272d4ff54062a25597a1caf26d3e": {
          "model_module": "@jupyter-widgets/base",
          "model_name": "LayoutModel",
          "model_module_version": "1.2.0",
          "state": {
            "_model_module": "@jupyter-widgets/base",
            "_model_module_version": "1.2.0",
            "_model_name": "LayoutModel",
            "_view_count": null,
            "_view_module": "@jupyter-widgets/base",
            "_view_module_version": "1.2.0",
            "_view_name": "LayoutView",
            "align_content": null,
            "align_items": null,
            "align_self": null,
            "border": null,
            "bottom": null,
            "display": null,
            "flex": null,
            "flex_flow": null,
            "grid_area": null,
            "grid_auto_columns": null,
            "grid_auto_flow": null,
            "grid_auto_rows": null,
            "grid_column": null,
            "grid_gap": null,
            "grid_row": null,
            "grid_template_areas": null,
            "grid_template_columns": null,
            "grid_template_rows": null,
            "height": null,
            "justify_content": null,
            "justify_items": null,
            "left": null,
            "margin": null,
            "max_height": null,
            "max_width": null,
            "min_height": null,
            "min_width": null,
            "object_fit": null,
            "object_position": null,
            "order": null,
            "overflow": null,
            "overflow_x": null,
            "overflow_y": null,
            "padding": null,
            "right": null,
            "top": null,
            "visibility": null,
            "width": null
          }
        },
        "6499e14e21b94ca4a369ae75c632a86f": {
          "model_module": "@jupyter-widgets/controls",
          "model_name": "ProgressStyleModel",
          "model_module_version": "1.5.0",
          "state": {
            "_model_module": "@jupyter-widgets/controls",
            "_model_module_version": "1.5.0",
            "_model_name": "ProgressStyleModel",
            "_view_count": null,
            "_view_module": "@jupyter-widgets/base",
            "_view_module_version": "1.2.0",
            "_view_name": "StyleView",
            "bar_color": null,
            "description_width": ""
          }
        },
        "44b6c26266154cbdb29e1027c4f43f68": {
          "model_module": "@jupyter-widgets/base",
          "model_name": "LayoutModel",
          "model_module_version": "1.2.0",
          "state": {
            "_model_module": "@jupyter-widgets/base",
            "_model_module_version": "1.2.0",
            "_model_name": "LayoutModel",
            "_view_count": null,
            "_view_module": "@jupyter-widgets/base",
            "_view_module_version": "1.2.0",
            "_view_name": "LayoutView",
            "align_content": null,
            "align_items": null,
            "align_self": null,
            "border": null,
            "bottom": null,
            "display": null,
            "flex": null,
            "flex_flow": null,
            "grid_area": null,
            "grid_auto_columns": null,
            "grid_auto_flow": null,
            "grid_auto_rows": null,
            "grid_column": null,
            "grid_gap": null,
            "grid_row": null,
            "grid_template_areas": null,
            "grid_template_columns": null,
            "grid_template_rows": null,
            "height": null,
            "justify_content": null,
            "justify_items": null,
            "left": null,
            "margin": null,
            "max_height": null,
            "max_width": null,
            "min_height": null,
            "min_width": null,
            "object_fit": null,
            "object_position": null,
            "order": null,
            "overflow": null,
            "overflow_x": null,
            "overflow_y": null,
            "padding": null,
            "right": null,
            "top": null,
            "visibility": null,
            "width": null
          }
        },
        "af7d421085074b2c90036d540ee2c03e": {
          "model_module": "@jupyter-widgets/controls",
          "model_name": "DescriptionStyleModel",
          "model_module_version": "1.5.0",
          "state": {
            "_model_module": "@jupyter-widgets/controls",
            "_model_module_version": "1.5.0",
            "_model_name": "DescriptionStyleModel",
            "_view_count": null,
            "_view_module": "@jupyter-widgets/base",
            "_view_module_version": "1.2.0",
            "_view_name": "StyleView",
            "description_width": ""
          }
        }
      }
    }
  },
  "cells": [
    {
      "cell_type": "code",
      "execution_count": 1,
      "metadata": {
        "colab": {
          "base_uri": "https://localhost:8080/"
        },
        "id": "yYWnmLVTU0he",
        "outputId": "00994097-4a73-4885-fe4e-f38468d684c9"
      },
      "outputs": [
        {
          "output_type": "stream",
          "name": "stdout",
          "text": [
            "Looking in indexes: https://pypi.org/simple, https://us-python.pkg.dev/colab-wheels/public/simple/\n",
            "Requirement already satisfied: bert-extractive-summarizer in /usr/local/lib/python3.9/dist-packages (0.10.1)\n",
            "Requirement already satisfied: transformers in /usr/local/lib/python3.9/dist-packages (from bert-extractive-summarizer) (4.28.1)\n",
            "Requirement already satisfied: scikit-learn in /usr/local/lib/python3.9/dist-packages (from bert-extractive-summarizer) (1.2.2)\n",
            "Requirement already satisfied: spacy in /usr/local/lib/python3.9/dist-packages (from bert-extractive-summarizer) (3.5.2)\n",
            "Requirement already satisfied: joblib>=1.1.1 in /usr/local/lib/python3.9/dist-packages (from scikit-learn->bert-extractive-summarizer) (1.2.0)\n",
            "Requirement already satisfied: scipy>=1.3.2 in /usr/local/lib/python3.9/dist-packages (from scikit-learn->bert-extractive-summarizer) (1.10.1)\n",
            "Requirement already satisfied: threadpoolctl>=2.0.0 in /usr/local/lib/python3.9/dist-packages (from scikit-learn->bert-extractive-summarizer) (3.1.0)\n",
            "Requirement already satisfied: numpy>=1.17.3 in /usr/local/lib/python3.9/dist-packages (from scikit-learn->bert-extractive-summarizer) (1.22.4)\n",
            "Requirement already satisfied: spacy-legacy<3.1.0,>=3.0.11 in /usr/local/lib/python3.9/dist-packages (from spacy->bert-extractive-summarizer) (3.0.12)\n",
            "Requirement already satisfied: jinja2 in /usr/local/lib/python3.9/dist-packages (from spacy->bert-extractive-summarizer) (3.1.2)\n",
            "Requirement already satisfied: tqdm<5.0.0,>=4.38.0 in /usr/local/lib/python3.9/dist-packages (from spacy->bert-extractive-summarizer) (4.65.0)\n",
            "Requirement already satisfied: setuptools in /usr/local/lib/python3.9/dist-packages (from spacy->bert-extractive-summarizer) (67.6.1)\n",
            "Requirement already satisfied: pathy>=0.10.0 in /usr/local/lib/python3.9/dist-packages (from spacy->bert-extractive-summarizer) (0.10.1)\n",
            "Requirement already satisfied: smart-open<7.0.0,>=5.2.1 in /usr/local/lib/python3.9/dist-packages (from spacy->bert-extractive-summarizer) (6.3.0)\n",
            "Requirement already satisfied: wasabi<1.2.0,>=0.9.1 in /usr/local/lib/python3.9/dist-packages (from spacy->bert-extractive-summarizer) (1.1.1)\n",
            "Requirement already satisfied: murmurhash<1.1.0,>=0.28.0 in /usr/local/lib/python3.9/dist-packages (from spacy->bert-extractive-summarizer) (1.0.9)\n",
            "Requirement already satisfied: thinc<8.2.0,>=8.1.8 in /usr/local/lib/python3.9/dist-packages (from spacy->bert-extractive-summarizer) (8.1.9)\n",
            "Requirement already satisfied: cymem<2.1.0,>=2.0.2 in /usr/local/lib/python3.9/dist-packages (from spacy->bert-extractive-summarizer) (2.0.7)\n",
            "Requirement already satisfied: spacy-loggers<2.0.0,>=1.0.0 in /usr/local/lib/python3.9/dist-packages (from spacy->bert-extractive-summarizer) (1.0.4)\n",
            "Requirement already satisfied: langcodes<4.0.0,>=3.2.0 in /usr/local/lib/python3.9/dist-packages (from spacy->bert-extractive-summarizer) (3.3.0)\n",
            "Requirement already satisfied: preshed<3.1.0,>=3.0.2 in /usr/local/lib/python3.9/dist-packages (from spacy->bert-extractive-summarizer) (3.0.8)\n",
            "Requirement already satisfied: srsly<3.0.0,>=2.4.3 in /usr/local/lib/python3.9/dist-packages (from spacy->bert-extractive-summarizer) (2.4.6)\n",
            "Requirement already satisfied: pydantic!=1.8,!=1.8.1,<1.11.0,>=1.7.4 in /usr/local/lib/python3.9/dist-packages (from spacy->bert-extractive-summarizer) (1.10.7)\n",
            "Requirement already satisfied: requests<3.0.0,>=2.13.0 in /usr/local/lib/python3.9/dist-packages (from spacy->bert-extractive-summarizer) (2.27.1)\n",
            "Requirement already satisfied: typer<0.8.0,>=0.3.0 in /usr/local/lib/python3.9/dist-packages (from spacy->bert-extractive-summarizer) (0.7.0)\n",
            "Requirement already satisfied: packaging>=20.0 in /usr/local/lib/python3.9/dist-packages (from spacy->bert-extractive-summarizer) (23.1)\n",
            "Requirement already satisfied: catalogue<2.1.0,>=2.0.6 in /usr/local/lib/python3.9/dist-packages (from spacy->bert-extractive-summarizer) (2.0.8)\n",
            "Requirement already satisfied: tokenizers!=0.11.3,<0.14,>=0.11.1 in /usr/local/lib/python3.9/dist-packages (from transformers->bert-extractive-summarizer) (0.13.3)\n",
            "Requirement already satisfied: pyyaml>=5.1 in /usr/local/lib/python3.9/dist-packages (from transformers->bert-extractive-summarizer) (6.0)\n",
            "Requirement already satisfied: filelock in /usr/local/lib/python3.9/dist-packages (from transformers->bert-extractive-summarizer) (3.11.0)\n",
            "Requirement already satisfied: huggingface-hub<1.0,>=0.11.0 in /usr/local/lib/python3.9/dist-packages (from transformers->bert-extractive-summarizer) (0.13.4)\n",
            "Requirement already satisfied: regex!=2019.12.17 in /usr/local/lib/python3.9/dist-packages (from transformers->bert-extractive-summarizer) (2022.10.31)\n",
            "Requirement already satisfied: typing-extensions>=3.7.4.3 in /usr/local/lib/python3.9/dist-packages (from huggingface-hub<1.0,>=0.11.0->transformers->bert-extractive-summarizer) (4.5.0)\n",
            "Requirement already satisfied: certifi>=2017.4.17 in /usr/local/lib/python3.9/dist-packages (from requests<3.0.0,>=2.13.0->spacy->bert-extractive-summarizer) (2022.12.7)\n",
            "Requirement already satisfied: idna<4,>=2.5 in /usr/local/lib/python3.9/dist-packages (from requests<3.0.0,>=2.13.0->spacy->bert-extractive-summarizer) (3.4)\n",
            "Requirement already satisfied: charset-normalizer~=2.0.0 in /usr/local/lib/python3.9/dist-packages (from requests<3.0.0,>=2.13.0->spacy->bert-extractive-summarizer) (2.0.12)\n",
            "Requirement already satisfied: urllib3<1.27,>=1.21.1 in /usr/local/lib/python3.9/dist-packages (from requests<3.0.0,>=2.13.0->spacy->bert-extractive-summarizer) (1.26.15)\n",
            "Requirement already satisfied: blis<0.8.0,>=0.7.8 in /usr/local/lib/python3.9/dist-packages (from thinc<8.2.0,>=8.1.8->spacy->bert-extractive-summarizer) (0.7.9)\n",
            "Requirement already satisfied: confection<1.0.0,>=0.0.1 in /usr/local/lib/python3.9/dist-packages (from thinc<8.2.0,>=8.1.8->spacy->bert-extractive-summarizer) (0.0.4)\n",
            "Requirement already satisfied: click<9.0.0,>=7.1.1 in /usr/local/lib/python3.9/dist-packages (from typer<0.8.0,>=0.3.0->spacy->bert-extractive-summarizer) (8.1.3)\n",
            "Requirement already satisfied: MarkupSafe>=2.0 in /usr/local/lib/python3.9/dist-packages (from jinja2->spacy->bert-extractive-summarizer) (2.1.2)\n",
            "Looking in indexes: https://pypi.org/simple, https://us-python.pkg.dev/colab-wheels/public/simple/\n",
            "Requirement already satisfied: transformers in /usr/local/lib/python3.9/dist-packages (4.28.1)\n",
            "Requirement already satisfied: pyyaml>=5.1 in /usr/local/lib/python3.9/dist-packages (from transformers) (6.0)\n",
            "Requirement already satisfied: requests in /usr/local/lib/python3.9/dist-packages (from transformers) (2.27.1)\n",
            "Requirement already satisfied: tokenizers!=0.11.3,<0.14,>=0.11.1 in /usr/local/lib/python3.9/dist-packages (from transformers) (0.13.3)\n",
            "Requirement already satisfied: numpy>=1.17 in /usr/local/lib/python3.9/dist-packages (from transformers) (1.22.4)\n",
            "Requirement already satisfied: regex!=2019.12.17 in /usr/local/lib/python3.9/dist-packages (from transformers) (2022.10.31)\n",
            "Requirement already satisfied: packaging>=20.0 in /usr/local/lib/python3.9/dist-packages (from transformers) (23.1)\n",
            "Requirement already satisfied: filelock in /usr/local/lib/python3.9/dist-packages (from transformers) (3.11.0)\n",
            "Requirement already satisfied: huggingface-hub<1.0,>=0.11.0 in /usr/local/lib/python3.9/dist-packages (from transformers) (0.13.4)\n",
            "Requirement already satisfied: tqdm>=4.27 in /usr/local/lib/python3.9/dist-packages (from transformers) (4.65.0)\n",
            "Requirement already satisfied: typing-extensions>=3.7.4.3 in /usr/local/lib/python3.9/dist-packages (from huggingface-hub<1.0,>=0.11.0->transformers) (4.5.0)\n",
            "Requirement already satisfied: certifi>=2017.4.17 in /usr/local/lib/python3.9/dist-packages (from requests->transformers) (2022.12.7)\n",
            "Requirement already satisfied: urllib3<1.27,>=1.21.1 in /usr/local/lib/python3.9/dist-packages (from requests->transformers) (1.26.15)\n",
            "Requirement already satisfied: charset-normalizer~=2.0.0 in /usr/local/lib/python3.9/dist-packages (from requests->transformers) (2.0.12)\n",
            "Requirement already satisfied: idna<4,>=2.5 in /usr/local/lib/python3.9/dist-packages (from requests->transformers) (3.4)\n",
            "Looking in indexes: https://pypi.org/simple, https://us-python.pkg.dev/colab-wheels/public/simple/\n",
            "Requirement already satisfied: datasets in /usr/local/lib/python3.9/dist-packages (2.11.0)\n",
            "Requirement already satisfied: multiprocess in /usr/local/lib/python3.9/dist-packages (from datasets) (0.70.14)\n",
            "Requirement already satisfied: numpy>=1.17 in /usr/local/lib/python3.9/dist-packages (from datasets) (1.22.4)\n",
            "Requirement already satisfied: fsspec[http]>=2021.11.1 in /usr/local/lib/python3.9/dist-packages (from datasets) (2023.4.0)\n",
            "Requirement already satisfied: aiohttp in /usr/local/lib/python3.9/dist-packages (from datasets) (3.8.4)\n",
            "Requirement already satisfied: dill<0.3.7,>=0.3.0 in /usr/local/lib/python3.9/dist-packages (from datasets) (0.3.6)\n",
            "Requirement already satisfied: responses<0.19 in /usr/local/lib/python3.9/dist-packages (from datasets) (0.18.0)\n",
            "Requirement already satisfied: tqdm>=4.62.1 in /usr/local/lib/python3.9/dist-packages (from datasets) (4.65.0)\n",
            "Requirement already satisfied: pandas in /usr/local/lib/python3.9/dist-packages (from datasets) (1.5.3)\n",
            "Requirement already satisfied: xxhash in /usr/local/lib/python3.9/dist-packages (from datasets) (3.2.0)\n",
            "Requirement already satisfied: packaging in /usr/local/lib/python3.9/dist-packages (from datasets) (23.1)\n",
            "Requirement already satisfied: pyyaml>=5.1 in /usr/local/lib/python3.9/dist-packages (from datasets) (6.0)\n",
            "Requirement already satisfied: huggingface-hub<1.0.0,>=0.11.0 in /usr/local/lib/python3.9/dist-packages (from datasets) (0.13.4)\n",
            "Requirement already satisfied: requests>=2.19.0 in /usr/local/lib/python3.9/dist-packages (from datasets) (2.27.1)\n",
            "Requirement already satisfied: pyarrow>=8.0.0 in /usr/local/lib/python3.9/dist-packages (from datasets) (9.0.0)\n",
            "Requirement already satisfied: multidict<7.0,>=4.5 in /usr/local/lib/python3.9/dist-packages (from aiohttp->datasets) (6.0.4)\n",
            "Requirement already satisfied: aiosignal>=1.1.2 in /usr/local/lib/python3.9/dist-packages (from aiohttp->datasets) (1.3.1)\n",
            "Requirement already satisfied: async-timeout<5.0,>=4.0.0a3 in /usr/local/lib/python3.9/dist-packages (from aiohttp->datasets) (4.0.2)\n",
            "Requirement already satisfied: charset-normalizer<4.0,>=2.0 in /usr/local/lib/python3.9/dist-packages (from aiohttp->datasets) (2.0.12)\n",
            "Requirement already satisfied: yarl<2.0,>=1.0 in /usr/local/lib/python3.9/dist-packages (from aiohttp->datasets) (1.9.1)\n",
            "Requirement already satisfied: frozenlist>=1.1.1 in /usr/local/lib/python3.9/dist-packages (from aiohttp->datasets) (1.3.3)\n",
            "Requirement already satisfied: attrs>=17.3.0 in /usr/local/lib/python3.9/dist-packages (from aiohttp->datasets) (23.1.0)\n",
            "Requirement already satisfied: filelock in /usr/local/lib/python3.9/dist-packages (from huggingface-hub<1.0.0,>=0.11.0->datasets) (3.11.0)\n",
            "Requirement already satisfied: typing-extensions>=3.7.4.3 in /usr/local/lib/python3.9/dist-packages (from huggingface-hub<1.0.0,>=0.11.0->datasets) (4.5.0)\n",
            "Requirement already satisfied: idna<4,>=2.5 in /usr/local/lib/python3.9/dist-packages (from requests>=2.19.0->datasets) (3.4)\n",
            "Requirement already satisfied: urllib3<1.27,>=1.21.1 in /usr/local/lib/python3.9/dist-packages (from requests>=2.19.0->datasets) (1.26.15)\n",
            "Requirement already satisfied: certifi>=2017.4.17 in /usr/local/lib/python3.9/dist-packages (from requests>=2.19.0->datasets) (2022.12.7)\n",
            "Requirement already satisfied: python-dateutil>=2.8.1 in /usr/local/lib/python3.9/dist-packages (from pandas->datasets) (2.8.2)\n",
            "Requirement already satisfied: pytz>=2020.1 in /usr/local/lib/python3.9/dist-packages (from pandas->datasets) (2022.7.1)\n",
            "Requirement already satisfied: six>=1.5 in /usr/local/lib/python3.9/dist-packages (from python-dateutil>=2.8.1->pandas->datasets) (1.16.0)\n"
          ]
        }
      ],
      "source": [
        "!pip3 install bert-extractive-summarizer\n",
        "!pip install transformers\n",
        "!pip install datasets"
      ]
    },
    {
      "cell_type": "code",
      "source": [
        "import torch\n",
        "import datasets\n",
        "import numpy as np\n",
        "import pandas as pd\n",
        "from datasets import load_dataset, DatasetDict\n",
        "from transformers import GPT2LMHeadModel, GPT2TokenizerFast, AutoConfig\n",
        "import torch\n",
        "import torch.nn as nn\n",
        "from transformers.optimization import Adafactor\n",
        "import transformers\n",
        "from summarizer import Summarizer"
      ],
      "metadata": {
        "id": "al55bIJhVpYp"
      },
      "execution_count": 2,
      "outputs": []
    },
    {
      "cell_type": "code",
      "source": [
        "raw_datasets = load_dataset(\"xsum\")\n",
        "train_data = raw_datasets['train']\n",
        "test_data = raw_datasets['test']"
      ],
      "metadata": {
        "colab": {
          "base_uri": "https://localhost:8080/",
          "height": 87,
          "referenced_widgets": [
            "d6a50f017b124b9ca57145af16d60220",
            "62bf435bd8ce42c9b9e0473de80bfa6c",
            "09b13e3d8f894020bd2ff3ab09f090c5",
            "66ba6a92c3d64ba0b6d3490fa21abfcb",
            "f85afafb3726401caba594f2b375b59e",
            "c84df7c5884b48f9bc823fa9d35b0418",
            "8e6a4bbeda314885a3d879c7e06a0850",
            "6ec17eea9e19490e92a34431b8e54dfb",
            "5bc212c02b7542df97da9bdd69f7672c",
            "15eb31ae1bf049a1814165bbf570d1de",
            "3157d8656a7840ce82df7a23b0103c6c"
          ]
        },
        "id": "s4ncnaEJWIpi",
        "outputId": "87ac587c-abc1-4651-8837-3b002ce50c6f"
      },
      "execution_count": 3,
      "outputs": [
        {
          "output_type": "stream",
          "name": "stderr",
          "text": [
            "WARNING:datasets.builder:Found cached dataset xsum (/root/.cache/huggingface/datasets/xsum/default/1.2.0/082863bf4754ee058a5b6f6525d0cb2b18eadb62c7b370b095d1364050a52b71)\n"
          ]
        },
        {
          "output_type": "display_data",
          "data": {
            "text/plain": [
              "  0%|          | 0/3 [00:00<?, ?it/s]"
            ],
            "application/vnd.jupyter.widget-view+json": {
              "version_major": 2,
              "version_minor": 0,
              "model_id": "d6a50f017b124b9ca57145af16d60220"
            }
          },
          "metadata": {}
        }
      ]
    },
    {
      "cell_type": "code",
      "source": [
        "summarizer = Summarizer()\n",
        "\n",
        "def extract_important_sentence(example, model):\n",
        "  text = example['document']\n",
        "  result = model(text, num_sentences=1)\n",
        "  return {'important_sentences':result}"
      ],
      "metadata": {
        "colab": {
          "base_uri": "https://localhost:8080/"
        },
        "id": "QfbDfLzZZZQe",
        "outputId": "5f1c41b8-e1ce-4b07-b14f-7875d4e3a2d2"
      },
      "execution_count": 4,
      "outputs": [
        {
          "output_type": "stream",
          "name": "stderr",
          "text": [
            "Some weights of the model checkpoint at bert-large-uncased were not used when initializing BertModel: ['cls.predictions.transform.dense.weight', 'cls.predictions.transform.LayerNorm.bias', 'cls.predictions.transform.dense.bias', 'cls.predictions.decoder.weight', 'cls.seq_relationship.bias', 'cls.predictions.transform.LayerNorm.weight', 'cls.seq_relationship.weight', 'cls.predictions.bias']\n",
            "- This IS expected if you are initializing BertModel from the checkpoint of a model trained on another task or with another architecture (e.g. initializing a BertForSequenceClassification model from a BertForPreTraining model).\n",
            "- This IS NOT expected if you are initializing BertModel from the checkpoint of a model that you expect to be exactly identical (initializing a BertForSequenceClassification model from a BertForSequenceClassification model).\n"
          ]
        }
      ]
    },
    {
      "cell_type": "markdown",
      "source": [
        "# Load XSum Dataset"
      ],
      "metadata": {
        "id": "6ACZmDi2_WA_"
      }
    },
    {
      "cell_type": "code",
      "source": [
        "raw_datasets = DatasetDict(\n",
        "    {\n",
        "        \"train\": train_data.select(range(100)),\n",
        "        \"test\": test_data.select(range(100)),\n",
        "    }\n",
        ")"
      ],
      "metadata": {
        "id": "D2pzVBrUXmWN"
      },
      "execution_count": 5,
      "outputs": []
    },
    {
      "cell_type": "markdown",
      "source": [
        "# Extract Important Sentences"
      ],
      "metadata": {
        "id": "a4gQMJbk_2Sm"
      }
    },
    {
      "cell_type": "code",
      "source": [
        "raw_datasets =  raw_datasets.map(lambda example:extract_important_sentence(example, summarizer))"
      ],
      "metadata": {
        "colab": {
          "base_uri": "https://localhost:8080/",
          "height": 67,
          "referenced_widgets": [
            "c919ac2feb744e90a7ceda1ee090e148",
            "89a1b424c5114510ab7733f46145dd70",
            "6ca20f89bb7a43fdb339842c236e262e",
            "f0963c5e4e1e4f0f93a7c9493c81943f",
            "2bbf34a5213943c58afdc4d29a459f44",
            "57bc5a33fc4a4f96b33ad2fa5f3a7250",
            "e00992eb9da74f4c82bf14cf1f2095ad",
            "0c0f81dc219849df982a4d9f4e01d110",
            "4f394913d0ad4aceb5009dd8a5c379e3",
            "2c0635cc8e764f2b9786b0d8bc916b2b",
            "955b429f541a4472b4a780300a352bad",
            "4f1acb261cdd44958751cade0a239f4a"
          ]
        },
        "id": "mgsEX4JjDgd4",
        "outputId": "abaee930-0555-4563-da81-6f302974425d"
      },
      "execution_count": 6,
      "outputs": [
        {
          "data": {
            "application/vnd.jupyter.widget-view+json": {
              "model_id": "c919ac2feb744e90a7ceda1ee090e148",
              "version_major": 2,
              "version_minor": 0
            },
            "text/plain": [
              "Map:   0%|          | 0/100 [00:00<?, ? examples/s]"
            ]
          },
          "metadata": {},
          "output_type": "display_data"
        },
        {
          "data": {
            "application/vnd.jupyter.widget-view+json": {
              "model_id": "4f1acb261cdd44958751cade0a239f4a",
              "version_major": 2,
              "version_minor": 0
            },
            "text/plain": [
              "Map:   0%|          | 0/100 [00:00<?, ? examples/s]"
            ]
          },
          "metadata": {},
          "output_type": "display_data"
        }
      ]
    },
    {
      "cell_type": "code",
      "source": [
        "raw_datasets"
      ],
      "metadata": {
        "colab": {
          "base_uri": "https://localhost:8080/"
        },
        "id": "LC_0CXRmE95n",
        "outputId": "86fc306c-308b-4d5e-8fb4-399b91250ddb"
      },
      "execution_count": 7,
      "outputs": [
        {
          "output_type": "execute_result",
          "data": {
            "text/plain": [
              "DatasetDict({\n",
              "    train: Dataset({\n",
              "        features: ['document', 'summary', 'id', 'important_sentences'],\n",
              "        num_rows: 100\n",
              "    })\n",
              "    test: Dataset({\n",
              "        features: ['document', 'summary', 'id', 'important_sentences'],\n",
              "        num_rows: 100\n",
              "    })\n",
              "})"
            ]
          },
          "metadata": {},
          "execution_count": 7
        }
      ]
    },
    {
      "cell_type": "markdown",
      "source": [
        "# Load GPT2 Tokenizer"
      ],
      "metadata": {
        "id": "MTNdInugFICo"
      }
    },
    {
      "cell_type": "code",
      "source": [
        "tokenizer = GPT2TokenizerFast.from_pretrained(\"gpt2\")\n",
        "tokenizer.add_special_tokens({'pad_token':'[PAD]'}) #Add pad token as gpt2 tokenizer doesn't have pad token on it"
      ],
      "metadata": {
        "colab": {
          "base_uri": "https://localhost:8080/"
        },
        "id": "AKdso6Q0FN7O",
        "outputId": "6885c6ac-9836-4179-cd5a-feef46b7acf8"
      },
      "execution_count": 8,
      "outputs": [
        {
          "output_type": "execute_result",
          "data": {
            "text/plain": [
              "1"
            ]
          },
          "metadata": {},
          "execution_count": 8
        }
      ]
    },
    {
      "cell_type": "code",
      "source": [
        "PAD_IDX = tokenizer.pad_token_id"
      ],
      "metadata": {
        "id": "eZvvttziFjFS"
      },
      "execution_count": 9,
      "outputs": []
    },
    {
      "cell_type": "code",
      "source": [
        "PAD_IDX"
      ],
      "metadata": {
        "colab": {
          "base_uri": "https://localhost:8080/"
        },
        "id": "XpOk8B1FFkvI",
        "outputId": "027f995b-1596-4006-a12b-06a2ad58fe67"
      },
      "execution_count": 10,
      "outputs": [
        {
          "output_type": "execute_result",
          "data": {
            "text/plain": [
              "50257"
            ]
          },
          "metadata": {},
          "execution_count": 10
        }
      ]
    },
    {
      "cell_type": "markdown",
      "source": [
        "# Load GPT2 model"
      ],
      "metadata": {
        "id": "yjayIZx4FtzW"
      }
    },
    {
      "cell_type": "code",
      "source": [
        "config = AutoConfig.from_pretrained(\n",
        "    \"gpt2\",\n",
        "    vocab_size=len(tokenizer),\n",
        "    n_ctx=512,\n",
        "    bos_token_id=tokenizer.bos_token_id,\n",
        "    eos_token_id=tokenizer.eos_token_id,\n",
        ")\n",
        "model = GPT2LMHeadModel(config).to(\"cuda\")\n"
      ],
      "metadata": {
        "id": "gINlD6wyazvy"
      },
      "execution_count": 11,
      "outputs": []
    },
    {
      "cell_type": "markdown",
      "source": [
        "# Pre-processing"
      ],
      "metadata": {
        "id": "kJW6Sr6oF3uB"
      }
    },
    {
      "cell_type": "code",
      "source": [
        "# Set length of soft embedding prefix\n",
        "prefix_len=100\n"
      ],
      "metadata": {
        "id": "PKvGZDbQGlvT"
      },
      "execution_count": 12,
      "outputs": []
    },
    {
      "cell_type": "code",
      "source": [
        "def preprocess_function(examples, prefix_len=100, padding=True):\n",
        "    text_column = 'document'\n",
        "    summary_column = 'summary'\n",
        "    important_column = 'important_sentences'\n",
        "\n",
        "    max_source_length = 512  \n",
        "    max_target_length = 512\n",
        "\n",
        "    text = examples[text_column]\n",
        "    targets = examples[summary_column]\n",
        "    important = examples[important_column]\n",
        "\n",
        "    inputs = \" \".join(text.split(' '))[:200]  #for each sample we are only taking 200 words\n",
        "\n",
        "    #tokenize inputs, label and important sentences\n",
        "    model_inputs = tokenizer(inputs, return_tensors=\"pt\", padding=padding, max_length=max_source_length, truncation=True)\n",
        "    labels = tokenizer(targets, padding=padding, max_length=max_target_length, return_tensors=\"pt\", truncation=True)\n",
        "    importance_sentences = tokenizer(important, padding=\"max_length\", max_length=prefix_len, return_tensors=\"pt\", truncation=True)\n",
        "\n",
        "    input_length = model_inputs['input_ids'].shape[1]\n",
        "    target_length = labels[\"input_ids\"].shape[1]\n",
        "\n",
        "    #print(max_source_length,target_length,prefix_len,input_length)\n",
        "    #concat input ids with importance sentences in the front and label in the back\n",
        "    model_inputs['input_ids'] = torch.cat([importance_sentences['input_ids'], model_inputs['input_ids'],torch.full((1,max_source_length-target_length-prefix_len-input_length), PAD_IDX), labels['input_ids']],1)\n",
        "    \n",
        "    #concat label with -100 in the front and padding\n",
        "    labels[\"input_ids\"] = torch.cat([torch.full((1,prefix_len),-100), labels['input_ids'],torch.full((1,max_target_length-prefix_len-target_length), PAD_IDX)],1)\n",
        "    model_inputs[\"labels\"] = labels[\"input_ids\"]\n",
        "\n",
        "    #concat attention with 0 in the back\n",
        "    attention_length = model_inputs[\"attention_mask\"].shape[1]\n",
        "    model_inputs[\"attention_mask\"] = torch.cat([model_inputs[\"attention_mask\"],torch.full((1,max_source_length-attention_length), 1)],1)\n",
        "\n",
        "    return model_inputs"
      ],
      "metadata": {
        "id": "WS-cWNGubG1g"
      },
      "execution_count": 13,
      "outputs": []
    },
    {
      "cell_type": "code",
      "source": [
        "column_names = ['document', 'summary','id','important_sentences']\n",
        "new_train_dataset = raw_datasets[\"train\"].map(lambda example : preprocess_function(example,prefix_len),remove_columns=column_names)\n",
        "new_test_dataset = raw_datasets[\"test\"].map(lambda example : preprocess_function(example,prefix_len),remove_columns=column_names)"
      ],
      "metadata": {
        "colab": {
          "base_uri": "https://localhost:8080/",
          "height": 17,
          "referenced_widgets": [
            "54a1bdf067694134b36be251fbfad1b3",
            "72c48e831b374d80b84ed4bc4814b9ed",
            "68e8e6b3c22e4866a94236e5f94f8576",
            "e48462a39dea4180a29ea7dcd3e70d77",
            "3aabd2f820b0449f92d2aa35cdb41b9b",
            "175e5e0a1ebb4841beef7c98e9c220ac",
            "ef20a49038694e039a091485e5671328",
            "d3b05934a3864751a0848b1d80b69651",
            "76f3358897ae47e5a1a0a9c736094394",
            "203ba0a94cdf41719dbc079e500aade8",
            "1952bc13e5314407b6eefc88a573482d",
            "3d3e0ec9b8c04ec38e8057035469731d",
            "8791ad8c4c7a47509954631773bf5ba8",
            "f4f559e5a2054881bc71a08c7ad31959",
            "96c0e3645f5444f0a0e418a9c5856efe",
            "578dc5591fa840bda06a0167ed356ec1",
            "4fdd8dfae0254dc1b04e5af11d9e0785",
            "2fd66b622f1e4767900a29f4b5c74075",
            "aad3272d4ff54062a25597a1caf26d3e",
            "6499e14e21b94ca4a369ae75c632a86f",
            "44b6c26266154cbdb29e1027c4f43f68",
            "af7d421085074b2c90036d540ee2c03e"
          ]
        },
        "id": "9lC5Uih0bVSp",
        "outputId": "f9bcc88a-3876-454c-8d64-d00d81e0d812"
      },
      "execution_count": 14,
      "outputs": [
        {
          "output_type": "display_data",
          "data": {
            "text/plain": [
              "Map:   0%|          | 0/100 [00:00<?, ? examples/s]"
            ],
            "application/vnd.jupyter.widget-view+json": {
              "version_major": 2,
              "version_minor": 0,
              "model_id": "54a1bdf067694134b36be251fbfad1b3"
            }
          },
          "metadata": {}
        },
        {
          "output_type": "display_data",
          "data": {
            "text/plain": [
              "Map:   0%|          | 0/100 [00:00<?, ? examples/s]"
            ],
            "application/vnd.jupyter.widget-view+json": {
              "version_major": 2,
              "version_minor": 0,
              "model_id": "3d3e0ec9b8c04ec38e8057035469731d"
            }
          },
          "metadata": {}
        }
      ]
    },
    {
      "cell_type": "markdown",
      "source": [
        "# Prepare Data Loader"
      ],
      "metadata": {
        "id": "rCWCQ8CULHZz"
      }
    },
    {
      "cell_type": "code",
      "source": [
        "from torch.utils.data import DataLoader\n",
        "from torch.nn.utils.rnn import pad_sequence"
      ],
      "metadata": {
        "id": "XjqKPZe4bsBe"
      },
      "execution_count": 15,
      "outputs": []
    },
    {
      "cell_type": "code",
      "source": [
        "BATCH_SIZE = 8\n",
        "new_train_dataset.set_format(\"torch\")\n",
        "loader = DataLoader(new_train_dataset, batch_size=BATCH_SIZE)"
      ],
      "metadata": {
        "id": "9syODDLVLLZR"
      },
      "execution_count": 16,
      "outputs": []
    },
    {
      "cell_type": "code",
      "source": [
        "for batch in loader:\n",
        "  break"
      ],
      "metadata": {
        "id": "MiP1s7z8bvMP"
      },
      "execution_count": 17,
      "outputs": []
    },
    {
      "cell_type": "code",
      "source": [
        "print(batch)"
      ],
      "metadata": {
        "colab": {
          "base_uri": "https://localhost:8080/"
        },
        "id": "XgIuJeXNLcZE",
        "outputId": "19d516d4-4357-49fc-89ab-f98eae552073"
      },
      "execution_count": 18,
      "outputs": [
        {
          "metadata": {
            "tags": null
          },
          "name": "stdout",
          "output_type": "stream",
          "text": [
            "{'input_ids': tensor([[[  464,  1336,  1575,  ...,  8865,  5278,    13]],\n",
            "\n",
            "        [[   32,  2046, 10436,  ...,  1748,  7372,    13]],\n",
            "\n",
            "        [[   37,  8056,  2743,  ..., 10018,  3900,    13]],\n",
            "\n",
            "        ...,\n",
            "\n",
            "        [[ 8890,   505, 34395,  ...,  7872,  4116,    13]],\n",
            "\n",
            "        [[13414, 32752, 42100,  ...,   416,  1644,    13]],\n",
            "\n",
            "        [[12193, 18299, 34632,  ..., 30711,   494,    13]]]), 'attention_mask': tensor([[[1, 1, 1,  ..., 1, 1, 1]],\n",
            "\n",
            "        [[1, 1, 1,  ..., 1, 1, 1]],\n",
            "\n",
            "        [[1, 1, 1,  ..., 1, 1, 1]],\n",
            "\n",
            "        ...,\n",
            "\n",
            "        [[1, 1, 1,  ..., 1, 1, 1]],\n",
            "\n",
            "        [[1, 1, 1,  ..., 1, 1, 1]],\n",
            "\n",
            "        [[1, 1, 1,  ..., 1, 1, 1]]]), 'labels': tensor([[[ -100,  -100,  -100,  ..., 50257, 50257, 50257]],\n",
            "\n",
            "        [[ -100,  -100,  -100,  ..., 50257, 50257, 50257]],\n",
            "\n",
            "        [[ -100,  -100,  -100,  ..., 50257, 50257, 50257]],\n",
            "\n",
            "        ...,\n",
            "\n",
            "        [[ -100,  -100,  -100,  ..., 50257, 50257, 50257]],\n",
            "\n",
            "        [[ -100,  -100,  -100,  ..., 50257, 50257, 50257]],\n",
            "\n",
            "        [[ -100,  -100,  -100,  ..., 50257, 50257, 50257]]])}\n"
          ]
        }
      ]
    },
    {
      "cell_type": "markdown",
      "source": [
        "# Create Soft Embedding Model"
      ],
      "metadata": {
        "id": "7TsccHKkLk1k"
      }
    },
    {
      "cell_type": "code",
      "source": [
        "class SoftEmbedding(nn.Module):\n",
        "    def __init__(self, \n",
        "                wte: nn.Embedding,  #original transformer word token embedding\n",
        "                n_tokens: int = 10, #number of tokens for each task\n",
        "                random_range: float = 0.5, #range to init embedding\n",
        "                initialize_from_vocab: bool = True):\n",
        "        super(SoftEmbedding, self).__init__()\n",
        "        self.wte = wte\n",
        "        self.n_tokens = n_tokens\n",
        "        self.learned_embedding = nn.parameter.Parameter(self.initialize_embedding(wte,\n",
        "                                                                               n_tokens, \n",
        "                                                                               random_range, \n",
        "                                                                               initialize_from_vocab))\n",
        "        # self.learned_embedding: (n_tokens, emb dim)\n",
        "        # self.wte.weight:        (vocab size, emb dim)\n",
        "        \n",
        "    def initialize_embedding(self, \n",
        "                             wte: nn.Embedding,\n",
        "                             n_tokens: int = 10, \n",
        "                             random_range: float = 0.5, \n",
        "                             initialize_from_vocab: bool = True):\n",
        "        if initialize_from_vocab:\n",
        "            return self.wte.weight[:n_tokens].clone().detach()\n",
        "        return torch.FloatTensor(n_tokens, wte.weight.size(1)).uniform_(-random_range, random_range)\n",
        "    \n",
        "    #define the forward process\n",
        "    def forward(self, tokens):\n",
        "        #first get the embedding of the input text, which is the n_tokens:\n",
        "        input_embedding = self.wte(tokens[:, self.n_tokens:])\n",
        "        #input_embedding: b, input_len, emb dim\n",
        "        \n",
        "        #repeat the learned embedding to all batch size\n",
        "        learned_embedding = self.learned_embedding.repeat(input_embedding.size(0), 1, 1)\n",
        "        #input_embedding: b, n_tokens, emb dim\n",
        "        \n",
        "        concat_embed = torch.cat([learned_embedding, input_embedding], 1)\n",
        "        #concat_embed: 1, input_len + n_tokens, emb dim\n",
        "        \n",
        "        return concat_embed"
      ],
      "metadata": {
        "id": "03G1HivkbyDj"
      },
      "execution_count": 19,
      "outputs": []
    },
    {
      "cell_type": "code",
      "source": [
        "model_setup_for_prompt_tuning=False\n",
        "if not model_setup_for_prompt_tuning:\n",
        "  model.train()\n",
        "\n",
        "  # Freeze model\n",
        "  for param in model.parameters():\n",
        "      param.requires_grad = False\n",
        "\n",
        "  old_wte = model.get_input_embeddings()\n",
        "\n",
        "  # Add softembedding module\n",
        "  s_wte = SoftEmbedding(old_wte,\n",
        "                        n_tokens=prefix_len,\n",
        "                        initialize_from_vocab=True).to(\"cuda\")\n",
        "  model.set_input_embeddings(s_wte)\n",
        "\n",
        "  # Set up optimizer\n",
        "  params = [model.transformer.wte.learned_embedding]\n",
        "  optimizer = Adafactor(params=params)"
      ],
      "metadata": {
        "id": "6Y_n5obzbza9"
      },
      "execution_count": 20,
      "outputs": []
    },
    {
      "cell_type": "markdown",
      "source": [
        "# Training Model"
      ],
      "metadata": {
        "id": "iHmZ4ZZQP7tu"
      }
    },
    {
      "cell_type": "code",
      "source": [
        "import pickle\n",
        "\n",
        "iterations = 400\n",
        "name = \"prefix-8-512-imp_sentences-1-model\"\n",
        "losses = []\n",
        "best_loss = float('inf')\n",
        "for batch in loader:\n",
        "  for i in range(iterations):\n",
        "      optimizer.zero_grad()\n",
        "      input=batch[\"input_ids\"].to(\"cuda\")\n",
        "      attention = batch[\"attention_mask\"].to(\"cuda\")\n",
        "      label = batch[\"labels\"].cuda()\n",
        "      output = model(input_ids=input,attention_mask = attention,labels=label)\n",
        "      loss = output.loss\n",
        "      losses.append(loss)\n",
        "      loss.backward()\n",
        "      optimizer.step()\n",
        "      if i%10 == 0:\n",
        "        print(f\"{i}: Loss: {loss}\")\n",
        "  if loss < best_loss:\n",
        "    best_loss = loss\n",
        "    torch.save(model.transformer.wte.learned_embedding, f'{name}.pt')\n",
        "    pickle.dump(model, open(f\"{name}.pkl\",\"wb\"))"
      ],
      "metadata": {
        "colab": {
          "base_uri": "https://localhost:8080/"
        },
        "id": "bCIsbV_eb157",
        "outputId": "51732e3a-ce1b-4a56-d3b0-0f532eb64344"
      },
      "execution_count": 21,
      "outputs": [
        {
          "output_type": "stream",
          "name": "stdout",
          "text": [
            "0: Loss: 10.431297302246094\n",
            "10: Loss: 9.184200286865234\n",
            "20: Loss: 8.146683692932129\n",
            "30: Loss: 7.450375556945801\n",
            "40: Loss: 6.940304279327393\n",
            "50: Loss: 6.511963367462158\n",
            "60: Loss: 6.188163757324219\n",
            "70: Loss: 5.87896728515625\n",
            "80: Loss: 5.599445819854736\n",
            "90: Loss: 5.344512462615967\n",
            "100: Loss: 5.10442590713501\n",
            "110: Loss: 4.857799053192139\n",
            "120: Loss: 4.582274913787842\n",
            "130: Loss: 4.3274078369140625\n",
            "140: Loss: 4.099809646606445\n",
            "150: Loss: 3.9089207649230957\n",
            "160: Loss: 3.720642328262329\n",
            "170: Loss: 3.5714871883392334\n",
            "180: Loss: 3.412111759185791\n",
            "190: Loss: 3.290515422821045\n",
            "200: Loss: 3.1735172271728516\n",
            "210: Loss: 3.074399709701538\n",
            "220: Loss: 2.9912972450256348\n",
            "230: Loss: 2.908116102218628\n",
            "240: Loss: 2.8312923908233643\n",
            "250: Loss: 2.7531321048736572\n",
            "260: Loss: 2.7036173343658447\n",
            "270: Loss: 2.649981737136841\n",
            "280: Loss: 2.6146130561828613\n",
            "290: Loss: 2.578566789627075\n",
            "300: Loss: 2.5518712997436523\n",
            "310: Loss: 2.523475408554077\n",
            "320: Loss: 2.4941956996917725\n",
            "330: Loss: 2.471369504928589\n",
            "340: Loss: 2.454538583755493\n",
            "350: Loss: 2.4205381870269775\n",
            "360: Loss: 2.413768768310547\n",
            "370: Loss: 2.4006471633911133\n",
            "380: Loss: 2.387651205062866\n",
            "390: Loss: 2.377098321914673\n",
            "0: Loss: 2.2651803493499756\n",
            "10: Loss: 2.2514448165893555\n",
            "20: Loss: 2.2338922023773193\n",
            "30: Loss: 2.2279951572418213\n",
            "40: Loss: 2.216761827468872\n",
            "50: Loss: 2.205500841140747\n",
            "60: Loss: 2.2026560306549072\n",
            "70: Loss: 2.1876614093780518\n",
            "80: Loss: 2.178821325302124\n",
            "90: Loss: 2.1813480854034424\n",
            "100: Loss: 2.166398763656616\n",
            "110: Loss: 2.1696267127990723\n",
            "120: Loss: 2.1689741611480713\n",
            "130: Loss: 2.1564598083496094\n",
            "140: Loss: 2.152345657348633\n",
            "150: Loss: 2.1525142192840576\n",
            "160: Loss: 2.146618366241455\n",
            "170: Loss: 2.1459484100341797\n",
            "180: Loss: 2.1445999145507812\n",
            "190: Loss: 2.143190622329712\n",
            "200: Loss: 2.1380558013916016\n",
            "210: Loss: 2.142916679382324\n",
            "220: Loss: 2.1341323852539062\n",
            "230: Loss: 2.1345558166503906\n",
            "240: Loss: 2.117677688598633\n",
            "250: Loss: 2.1241748332977295\n",
            "260: Loss: 2.1178457736968994\n",
            "270: Loss: 2.1256656646728516\n",
            "280: Loss: 2.1264431476593018\n",
            "290: Loss: 2.115029811859131\n",
            "300: Loss: 2.1124379634857178\n",
            "310: Loss: 2.1159474849700928\n",
            "320: Loss: 2.10726261138916\n",
            "330: Loss: 2.1062562465667725\n",
            "340: Loss: 2.1006364822387695\n",
            "350: Loss: 2.1017253398895264\n",
            "360: Loss: 2.1063342094421387\n",
            "370: Loss: 2.11024808883667\n",
            "380: Loss: 2.096479654312134\n",
            "390: Loss: 2.0881528854370117\n",
            "0: Loss: 2.1907694339752197\n",
            "10: Loss: 2.181957721710205\n",
            "20: Loss: 2.1782257556915283\n",
            "30: Loss: 2.166886329650879\n",
            "40: Loss: 2.1690359115600586\n",
            "50: Loss: 2.1600544452667236\n",
            "60: Loss: 2.160937786102295\n",
            "70: Loss: 2.1580586433410645\n",
            "80: Loss: 2.1493265628814697\n",
            "90: Loss: 2.1365559101104736\n",
            "100: Loss: 2.12522029876709\n",
            "110: Loss: 2.11826753616333\n",
            "120: Loss: 2.11336088180542\n",
            "130: Loss: 2.109940528869629\n",
            "140: Loss: 2.0959970951080322\n",
            "150: Loss: 2.091670513153076\n",
            "160: Loss: 2.0900237560272217\n",
            "170: Loss: 2.089501142501831\n",
            "180: Loss: 2.083244562149048\n",
            "190: Loss: 2.087648868560791\n",
            "200: Loss: 2.082969903945923\n",
            "210: Loss: 2.0798215866088867\n",
            "220: Loss: 2.074733018875122\n",
            "230: Loss: 2.0697734355926514\n",
            "240: Loss: 2.0687992572784424\n",
            "250: Loss: 2.064603805541992\n",
            "260: Loss: 2.060105323791504\n",
            "270: Loss: 2.064491033554077\n",
            "280: Loss: 2.0622200965881348\n",
            "290: Loss: 2.064460515975952\n",
            "300: Loss: 2.0611488819122314\n",
            "310: Loss: 2.0626869201660156\n",
            "320: Loss: 2.0568389892578125\n",
            "330: Loss: 2.0522964000701904\n",
            "340: Loss: 2.045377254486084\n",
            "350: Loss: 2.047726631164551\n",
            "360: Loss: 2.0427801609039307\n",
            "370: Loss: 2.0227315425872803\n",
            "380: Loss: 2.027001142501831\n",
            "390: Loss: 2.0247514247894287\n",
            "0: Loss: 2.149915933609009\n",
            "10: Loss: 2.1480648517608643\n",
            "20: Loss: 2.137786626815796\n",
            "30: Loss: 2.1344220638275146\n",
            "40: Loss: 2.127332925796509\n",
            "50: Loss: 2.138483762741089\n",
            "60: Loss: 2.130021810531616\n",
            "70: Loss: 2.1157021522521973\n",
            "80: Loss: 2.1165735721588135\n",
            "90: Loss: 2.117724895477295\n",
            "100: Loss: 2.1153547763824463\n",
            "110: Loss: 2.1083521842956543\n",
            "120: Loss: 2.1163828372955322\n",
            "130: Loss: 2.116323709487915\n",
            "140: Loss: 2.1095170974731445\n",
            "150: Loss: 2.1078102588653564\n",
            "160: Loss: 2.118011951446533\n",
            "170: Loss: 2.1093528270721436\n",
            "180: Loss: 2.1073594093322754\n",
            "190: Loss: 2.107468605041504\n",
            "200: Loss: 2.105428695678711\n",
            "210: Loss: 2.1012802124023438\n",
            "220: Loss: 2.1057777404785156\n",
            "230: Loss: 2.1086268424987793\n",
            "240: Loss: 2.099731683731079\n",
            "250: Loss: 2.0914437770843506\n",
            "260: Loss: 2.1026735305786133\n",
            "270: Loss: 2.0898454189300537\n",
            "280: Loss: 2.095158576965332\n",
            "290: Loss: 2.0941407680511475\n",
            "300: Loss: 2.095391035079956\n",
            "310: Loss: 2.095008373260498\n",
            "320: Loss: 2.0838420391082764\n",
            "330: Loss: 2.0839779376983643\n",
            "340: Loss: 2.0855653285980225\n",
            "350: Loss: 2.089472532272339\n",
            "360: Loss: 2.0845041275024414\n",
            "370: Loss: 2.0890345573425293\n",
            "380: Loss: 2.0846781730651855\n",
            "390: Loss: 2.0918595790863037\n",
            "0: Loss: 2.0201375484466553\n",
            "10: Loss: 2.0278091430664062\n",
            "20: Loss: 2.025149345397949\n",
            "30: Loss: 2.0159428119659424\n",
            "40: Loss: 2.015638828277588\n",
            "50: Loss: 2.0211527347564697\n",
            "60: Loss: 2.0021443367004395\n",
            "70: Loss: 1.9911977052688599\n",
            "80: Loss: 1.9906270503997803\n",
            "90: Loss: 1.979160189628601\n",
            "100: Loss: 1.9784876108169556\n",
            "110: Loss: 1.9770513772964478\n",
            "120: Loss: 1.9797829389572144\n",
            "130: Loss: 1.9757059812545776\n",
            "140: Loss: 1.9641188383102417\n",
            "150: Loss: 1.9745702743530273\n",
            "160: Loss: 1.9678961038589478\n",
            "170: Loss: 1.9637969732284546\n",
            "180: Loss: 1.969497799873352\n",
            "190: Loss: 1.9635347127914429\n",
            "200: Loss: 1.968593955039978\n",
            "210: Loss: 1.957526445388794\n",
            "220: Loss: 1.961660385131836\n",
            "230: Loss: 1.9599031209945679\n",
            "240: Loss: 1.9586572647094727\n",
            "250: Loss: 1.9561234712600708\n",
            "260: Loss: 1.9535846710205078\n",
            "270: Loss: 1.956405758857727\n",
            "280: Loss: 1.958192229270935\n",
            "290: Loss: 1.949629306793213\n",
            "300: Loss: 1.9542784690856934\n",
            "310: Loss: 1.9511443376541138\n",
            "320: Loss: 1.9568235874176025\n",
            "330: Loss: 1.9556410312652588\n",
            "340: Loss: 1.9429607391357422\n",
            "350: Loss: 1.9436088800430298\n",
            "360: Loss: 1.9457263946533203\n",
            "370: Loss: 1.9486181735992432\n",
            "380: Loss: 1.947930097579956\n",
            "390: Loss: 1.9414469003677368\n",
            "0: Loss: 1.8968473672866821\n",
            "10: Loss: 1.8948954343795776\n",
            "20: Loss: 1.8972913026809692\n",
            "30: Loss: 1.8909687995910645\n",
            "40: Loss: 1.8983789682388306\n",
            "50: Loss: 1.8971563577651978\n",
            "60: Loss: 1.8865501880645752\n",
            "70: Loss: 1.8925750255584717\n",
            "80: Loss: 1.8982306718826294\n",
            "90: Loss: 1.8990399837493896\n",
            "100: Loss: 1.8925913572311401\n",
            "110: Loss: 1.893025279045105\n",
            "120: Loss: 1.8976877927780151\n",
            "130: Loss: 1.8887962102890015\n",
            "140: Loss: 1.8857649564743042\n",
            "150: Loss: 1.8806374073028564\n",
            "160: Loss: 1.8883345127105713\n",
            "170: Loss: 1.8936359882354736\n",
            "180: Loss: 1.8875799179077148\n",
            "190: Loss: 1.8877074718475342\n",
            "200: Loss: 1.88932204246521\n",
            "210: Loss: 1.8917503356933594\n",
            "220: Loss: 1.8992011547088623\n",
            "230: Loss: 1.8856488466262817\n",
            "240: Loss: 1.885528326034546\n",
            "250: Loss: 1.8865123987197876\n",
            "260: Loss: 1.8844079971313477\n",
            "270: Loss: 1.8886486291885376\n",
            "280: Loss: 1.8934590816497803\n",
            "290: Loss: 1.8832439184188843\n",
            "300: Loss: 1.888581395149231\n",
            "310: Loss: 1.8805515766143799\n",
            "320: Loss: 1.8808573484420776\n",
            "330: Loss: 1.8881818056106567\n",
            "340: Loss: 1.8857383728027344\n",
            "350: Loss: 1.8730534315109253\n",
            "360: Loss: 1.8798456192016602\n",
            "370: Loss: 1.8808202743530273\n",
            "380: Loss: 1.8730790615081787\n",
            "390: Loss: 1.8881306648254395\n",
            "0: Loss: 1.8471518754959106\n",
            "10: Loss: 1.8489832878112793\n",
            "20: Loss: 1.8426178693771362\n",
            "30: Loss: 1.8491004705429077\n",
            "40: Loss: 1.8573939800262451\n",
            "50: Loss: 1.8415189981460571\n",
            "60: Loss: 1.842861533164978\n",
            "70: Loss: 1.847726583480835\n",
            "80: Loss: 1.8493562936782837\n",
            "90: Loss: 1.8423404693603516\n",
            "100: Loss: 1.8386403322219849\n",
            "110: Loss: 1.8488361835479736\n",
            "120: Loss: 1.8436607122421265\n",
            "130: Loss: 1.8458302021026611\n",
            "140: Loss: 1.837196707725525\n",
            "150: Loss: 1.845363974571228\n",
            "160: Loss: 1.8429113626480103\n",
            "170: Loss: 1.8406962156295776\n",
            "180: Loss: 1.836610198020935\n",
            "190: Loss: 1.8400911092758179\n",
            "200: Loss: 1.8401834964752197\n",
            "210: Loss: 1.8448292016983032\n",
            "220: Loss: 1.8446727991104126\n",
            "230: Loss: 1.8388056755065918\n",
            "240: Loss: 1.8439300060272217\n",
            "250: Loss: 1.8468137979507446\n",
            "260: Loss: 1.8383628129959106\n",
            "270: Loss: 1.847015142440796\n",
            "280: Loss: 1.8337537050247192\n",
            "290: Loss: 1.845581293106079\n",
            "300: Loss: 1.8277398347854614\n",
            "310: Loss: 1.8370368480682373\n",
            "320: Loss: 1.8350446224212646\n",
            "330: Loss: 1.832275152206421\n",
            "340: Loss: 1.835673451423645\n",
            "350: Loss: 1.8251088857650757\n",
            "360: Loss: 1.8299715518951416\n",
            "370: Loss: 1.8284802436828613\n",
            "380: Loss: 1.8321164846420288\n",
            "390: Loss: 1.834349274635315\n",
            "0: Loss: 2.060692071914673\n",
            "10: Loss: 2.062715530395508\n",
            "20: Loss: 2.0513830184936523\n",
            "30: Loss: 2.0493388175964355\n",
            "40: Loss: 2.0484747886657715\n",
            "50: Loss: 2.0549302101135254\n",
            "60: Loss: 2.04858660697937\n",
            "70: Loss: 2.0536885261535645\n",
            "80: Loss: 2.0446763038635254\n",
            "90: Loss: 2.053770065307617\n",
            "100: Loss: 2.0496087074279785\n",
            "110: Loss: 2.0410282611846924\n",
            "120: Loss: 2.0441927909851074\n",
            "130: Loss: 2.042473316192627\n",
            "140: Loss: 2.0459437370300293\n",
            "150: Loss: 2.0520362854003906\n",
            "160: Loss: 2.0500271320343018\n",
            "170: Loss: 2.0399296283721924\n",
            "180: Loss: 2.0496699810028076\n",
            "190: Loss: 2.032579183578491\n",
            "200: Loss: 2.0423123836517334\n",
            "210: Loss: 2.04080867767334\n",
            "220: Loss: 2.0315394401550293\n",
            "230: Loss: 2.0334312915802\n",
            "240: Loss: 2.021498203277588\n",
            "250: Loss: 2.013282060623169\n",
            "260: Loss: 2.0144145488739014\n",
            "270: Loss: 2.0147979259490967\n",
            "280: Loss: 2.012256145477295\n",
            "290: Loss: 2.007622480392456\n",
            "300: Loss: 2.0107076168060303\n",
            "310: Loss: 2.0010104179382324\n",
            "320: Loss: 1.9985243082046509\n",
            "330: Loss: 1.9982881546020508\n",
            "340: Loss: 2.0035786628723145\n",
            "350: Loss: 2.0106964111328125\n",
            "360: Loss: 1.9987318515777588\n",
            "370: Loss: 2.0003628730773926\n",
            "380: Loss: 1.9992597103118896\n",
            "390: Loss: 2.011033058166504\n",
            "0: Loss: 1.9913464784622192\n",
            "10: Loss: 1.987667202949524\n",
            "20: Loss: 2.0001277923583984\n",
            "30: Loss: 2.0033600330352783\n",
            "40: Loss: 2.0024068355560303\n",
            "50: Loss: 1.9911539554595947\n",
            "60: Loss: 1.9919140338897705\n",
            "70: Loss: 1.9898498058319092\n",
            "80: Loss: 1.9982703924179077\n",
            "90: Loss: 1.9959856271743774\n",
            "100: Loss: 1.988885521888733\n",
            "110: Loss: 1.9944158792495728\n",
            "120: Loss: 1.9903168678283691\n",
            "130: Loss: 1.9942344427108765\n",
            "140: Loss: 1.986948013305664\n",
            "150: Loss: 1.9902061223983765\n",
            "160: Loss: 1.9917614459991455\n",
            "170: Loss: 1.989622712135315\n",
            "180: Loss: 1.9747849702835083\n",
            "190: Loss: 1.9606404304504395\n",
            "200: Loss: 1.9540220499038696\n",
            "210: Loss: 1.9552167654037476\n",
            "220: Loss: 1.9475640058517456\n",
            "230: Loss: 1.9445819854736328\n",
            "240: Loss: 1.9442229270935059\n",
            "250: Loss: 1.9351824522018433\n",
            "260: Loss: 1.9433525800704956\n",
            "270: Loss: 1.9315941333770752\n",
            "280: Loss: 1.92316472530365\n",
            "290: Loss: 1.9095945358276367\n",
            "300: Loss: 1.906801700592041\n",
            "310: Loss: 1.9049888849258423\n",
            "320: Loss: 1.893783450126648\n",
            "330: Loss: 1.8949941396713257\n",
            "340: Loss: 1.8918019533157349\n",
            "350: Loss: 1.892856478691101\n",
            "360: Loss: 1.8863402605056763\n",
            "370: Loss: 1.8892822265625\n",
            "380: Loss: 1.8858386278152466\n",
            "390: Loss: 1.8903228044509888\n",
            "0: Loss: 1.5508209466934204\n",
            "10: Loss: 1.543762445449829\n",
            "20: Loss: 1.5387910604476929\n",
            "30: Loss: 1.5432560443878174\n",
            "40: Loss: 1.5358269214630127\n",
            "50: Loss: 1.5373516082763672\n",
            "60: Loss: 1.5353922843933105\n",
            "70: Loss: 1.5338817834854126\n",
            "80: Loss: 1.530474066734314\n",
            "90: Loss: 1.533555269241333\n",
            "100: Loss: 1.5297430753707886\n",
            "110: Loss: 1.5276693105697632\n",
            "120: Loss: 1.5339393615722656\n",
            "130: Loss: 1.5242944955825806\n",
            "140: Loss: 1.5242656469345093\n",
            "150: Loss: 1.524755835533142\n",
            "160: Loss: 1.5336220264434814\n",
            "170: Loss: 1.5214264392852783\n",
            "180: Loss: 1.5263421535491943\n",
            "190: Loss: 1.5274748802185059\n",
            "200: Loss: 1.5203474760055542\n",
            "210: Loss: 1.5182684659957886\n",
            "220: Loss: 1.5220249891281128\n",
            "230: Loss: 1.5238066911697388\n",
            "240: Loss: 1.5170838832855225\n",
            "250: Loss: 1.5254791975021362\n",
            "260: Loss: 1.5276668071746826\n",
            "270: Loss: 1.5263557434082031\n",
            "280: Loss: 1.522233486175537\n",
            "290: Loss: 1.5288465023040771\n",
            "300: Loss: 1.5215942859649658\n",
            "310: Loss: 1.5198121070861816\n",
            "320: Loss: 1.5223829746246338\n",
            "330: Loss: 1.5271508693695068\n",
            "340: Loss: 1.5195789337158203\n",
            "350: Loss: 1.5204986333847046\n",
            "360: Loss: 1.5325496196746826\n",
            "370: Loss: 1.5284587144851685\n",
            "380: Loss: 1.5287349224090576\n",
            "390: Loss: 1.520389199256897\n",
            "0: Loss: 1.7510278224945068\n",
            "10: Loss: 1.7454050779342651\n",
            "20: Loss: 1.7414005994796753\n",
            "30: Loss: 1.7497416734695435\n",
            "40: Loss: 1.739739179611206\n",
            "50: Loss: 1.7416882514953613\n",
            "60: Loss: 1.7451198101043701\n",
            "70: Loss: 1.7470678091049194\n",
            "80: Loss: 1.7382806539535522\n",
            "90: Loss: 1.733425498008728\n",
            "100: Loss: 1.7360581159591675\n",
            "110: Loss: 1.7446930408477783\n",
            "120: Loss: 1.7446843385696411\n",
            "130: Loss: 1.745338797569275\n",
            "140: Loss: 1.7370482683181763\n",
            "150: Loss: 1.7383326292037964\n",
            "160: Loss: 1.7390425205230713\n",
            "170: Loss: 1.7414405345916748\n",
            "180: Loss: 1.7402263879776\n",
            "190: Loss: 1.7366197109222412\n",
            "200: Loss: 1.7405120134353638\n",
            "210: Loss: 1.7337110042572021\n",
            "220: Loss: 1.738366723060608\n",
            "230: Loss: 1.7411948442459106\n",
            "240: Loss: 1.7413712739944458\n",
            "250: Loss: 1.7403088808059692\n",
            "260: Loss: 1.7309808731079102\n",
            "270: Loss: 1.738637924194336\n",
            "280: Loss: 1.7392462491989136\n",
            "290: Loss: 1.7344474792480469\n",
            "300: Loss: 1.7337394952774048\n",
            "310: Loss: 1.7369279861450195\n",
            "320: Loss: 1.739581823348999\n",
            "330: Loss: 1.734954595565796\n",
            "340: Loss: 1.7379518747329712\n",
            "350: Loss: 1.736193299293518\n",
            "360: Loss: 1.741718053817749\n",
            "370: Loss: 1.7360426187515259\n",
            "380: Loss: 1.7299165725708008\n",
            "390: Loss: 1.7354835271835327\n",
            "0: Loss: 1.7618982791900635\n",
            "10: Loss: 1.7685256004333496\n",
            "20: Loss: 1.7635170221328735\n",
            "30: Loss: 1.7597301006317139\n",
            "40: Loss: 1.7580738067626953\n",
            "50: Loss: 1.7676775455474854\n",
            "60: Loss: 1.7544465065002441\n",
            "70: Loss: 1.757649302482605\n",
            "80: Loss: 1.7673096656799316\n",
            "90: Loss: 1.7649781703948975\n",
            "100: Loss: 1.761304259300232\n",
            "110: Loss: 1.7615934610366821\n",
            "120: Loss: 1.7628828287124634\n",
            "130: Loss: 1.7667407989501953\n",
            "140: Loss: 1.7616652250289917\n",
            "150: Loss: 1.7557263374328613\n",
            "160: Loss: 1.7539118528366089\n",
            "170: Loss: 1.7604328393936157\n",
            "180: Loss: 1.7666471004486084\n",
            "190: Loss: 1.7619770765304565\n",
            "200: Loss: 1.7551729679107666\n",
            "210: Loss: 1.753631830215454\n",
            "220: Loss: 1.7610522508621216\n",
            "230: Loss: 1.7574788331985474\n",
            "240: Loss: 1.7586790323257446\n",
            "250: Loss: 1.7522470951080322\n",
            "260: Loss: 1.7536249160766602\n",
            "270: Loss: 1.7638311386108398\n",
            "280: Loss: 1.7602245807647705\n",
            "290: Loss: 1.7585060596466064\n",
            "300: Loss: 1.7530009746551514\n",
            "310: Loss: 1.751115083694458\n",
            "320: Loss: 1.7527107000350952\n",
            "330: Loss: 1.7624461650848389\n",
            "340: Loss: 1.7506420612335205\n",
            "350: Loss: 1.7527782917022705\n",
            "360: Loss: 1.7535591125488281\n",
            "370: Loss: 1.749084234237671\n",
            "380: Loss: 1.7524584531784058\n",
            "390: Loss: 1.7535806894302368\n",
            "0: Loss: 1.6549205780029297\n",
            "10: Loss: 1.6520050764083862\n",
            "20: Loss: 1.6633597612380981\n",
            "30: Loss: 1.6555395126342773\n",
            "40: Loss: 1.6556428670883179\n",
            "50: Loss: 1.668459415435791\n",
            "60: Loss: 1.6596360206604004\n",
            "70: Loss: 1.6534624099731445\n",
            "80: Loss: 1.656501293182373\n",
            "90: Loss: 1.660792350769043\n",
            "100: Loss: 1.6530358791351318\n",
            "110: Loss: 1.6569297313690186\n",
            "120: Loss: 1.6595275402069092\n",
            "130: Loss: 1.6462476253509521\n",
            "140: Loss: 1.6609655618667603\n",
            "150: Loss: 1.650890588760376\n",
            "160: Loss: 1.6490906476974487\n",
            "170: Loss: 1.6512242555618286\n",
            "180: Loss: 1.6616153717041016\n",
            "190: Loss: 1.6595510244369507\n",
            "200: Loss: 1.6519029140472412\n",
            "210: Loss: 1.6523815393447876\n",
            "220: Loss: 1.6418462991714478\n",
            "230: Loss: 1.6582642793655396\n",
            "240: Loss: 1.6473835706710815\n",
            "250: Loss: 1.6557873487472534\n",
            "260: Loss: 1.6589882373809814\n",
            "270: Loss: 1.6495908498764038\n",
            "280: Loss: 1.6570391654968262\n",
            "290: Loss: 1.6489076614379883\n",
            "300: Loss: 1.6545829772949219\n",
            "310: Loss: 1.6573636531829834\n",
            "320: Loss: 1.667630672454834\n",
            "330: Loss: 1.6531238555908203\n",
            "340: Loss: 1.6467632055282593\n",
            "350: Loss: 1.6566790342330933\n",
            "360: Loss: 1.6514943838119507\n",
            "370: Loss: 1.6606488227844238\n",
            "380: Loss: 1.6619635820388794\n",
            "390: Loss: 1.6482511758804321\n"
          ]
        }
      ]
    },
    {
      "cell_type": "markdown",
      "source": [
        "# Plot Training Loss"
      ],
      "metadata": {
        "id": "jwfgVRPAQALo"
      }
    },
    {
      "cell_type": "code",
      "source": [
        "final_losses = [loss.item() for loss in losses]"
      ],
      "metadata": {
        "id": "HZ3Xk9Ws4AzY"
      },
      "execution_count": 31,
      "outputs": []
    },
    {
      "cell_type": "code",
      "source": [
        "import matplotlib.pyplot as plt\n",
        "final_losses = [loss.item() for loss in losses]\n",
        "# Create a figure and axis object\n",
        "fig, ax = plt.subplots()\n",
        "\n",
        "# Create the line plot\n",
        "ax.plot(final_losses)\n",
        "\n",
        "# Add a title and axis labels\n",
        "ax.set_title('Training Losses')\n",
        "ax.set_xlabel('Iterations')\n",
        "ax.set_ylabel('Loss')\n",
        "\n",
        "# Display the plot\n",
        "plt.show()"
      ],
      "metadata": {
        "colab": {
          "base_uri": "https://localhost:8080/",
          "height": 472
        },
        "id": "ie99s7AS4LQZ",
        "outputId": "92f1eb26-0b14-4204-c69f-5a136455f491"
      },
      "execution_count": 32,
      "outputs": [
        {
          "output_type": "display_data",
          "data": {
            "text/plain": [
              "<Figure size 640x480 with 1 Axes>"
            ],
            "image/png": "[encoded data removed]"
          },
          "metadata": {}
        }
      ]
    },
    {
      "cell_type": "markdown",
      "source": [
        "# Testing Model"
      ],
      "metadata": {
        "id": "SD7PpoGyQJdv"
      }
    },
    {
      "cell_type": "code",
      "source": [
        "new_test_dataset"
      ],
      "metadata": {
        "colab": {
          "base_uri": "https://localhost:8080/"
        },
        "id": "Qj343zDR4OCx",
        "outputId": "936b82e3-c7a6-4350-91a8-531b08413233"
      },
      "execution_count": 33,
      "outputs": [
        {
          "output_type": "execute_result",
          "data": {
            "text/plain": [
              "Dataset({\n",
              "    features: ['input_ids', 'attention_mask', 'labels'],\n",
              "    num_rows: 100\n",
              "})"
            ]
          },
          "metadata": {},
          "execution_count": 33
        }
      ]
    },
    {
      "cell_type": "code",
      "source": [
        "new_test_dataset.set_format(\"pytorch\")"
      ],
      "metadata": {
        "id": "A_O2BYkJ4P8n"
      },
      "execution_count": 34,
      "outputs": []
    },
    {
      "cell_type": "code",
      "source": [
        "import numpy as np\n",
        "import torch\n",
        "import torch.nn as nn\n",
        "from torch.nn import functional as F\n",
        "def top_k_logits(logits, k,topk=0.7):\n",
        "    v, ix = torch.topk(logits, k)\n",
        "    out = logits.clone()\n",
        "    out[out < v[:, [-1]]] = -float('Inf')\n",
        "    return out"
      ],
      "metadata": {
        "id": "7eqedApT4SKQ"
      },
      "execution_count": 35,
      "outputs": []
    },
    {
      "cell_type": "code",
      "source": [
        "def generate(examples, temperature, output_length = 120):\n",
        "  model.eval();\n",
        "  with torch.no_grad():\n",
        "    tokens = []\n",
        "    input_ids = examples['input_ids'].cuda()\n",
        "    #attention_mask = torch.tensor(examples['attention_mask']).cuda()\n",
        "    summary_ids = input_ids.clone()\n",
        "\n",
        "    #summary_attention = attention_mask.clone()\n",
        "    for k in range(output_length):\n",
        "      logits = model(input_ids=input_ids).logits\n",
        "      logits = logits[:, -1, :] / temperature\n",
        "      logits = top_k_logits(logits, 10)\n",
        "      probs = F.softmax(logits, dim=-1)   \n",
        "      next_token = torch.multinomial(probs, num_samples=1)\n",
        "      while next_token == tokenizer.pad_token_id:\n",
        "          next_token = torch.multinomial(probs, num_samples=1)\n",
        "      summary_ids = torch.cat([summary_ids, next_token], dim=1)\n",
        "      input_ids = summary_ids\n",
        "      #summary_attention = \n",
        "      #attention_mask = torch.cat([attention_mask,torch.full((1,1), 1).cuda()],1).cuda()\n",
        "    #print(summary_ids)\n",
        "    summary = tokenizer.decode(summary_ids.squeeze(), skip_special_tokens=True)\n",
        "    return {'output_example':summary}"
      ],
      "metadata": {
        "id": "TW0eRJfb4Uv1"
      },
      "execution_count": 36,
      "outputs": []
    },
    {
      "cell_type": "code",
      "source": [
        "res = generate(new_test_dataset[0],0.7,120)"
      ],
      "metadata": {
        "id": "3lFBXE6b4Xa0"
      },
      "execution_count": 39,
      "outputs": []
    },
    {
      "cell_type": "code",
      "source": [
        "res['output_example'] #output = important_sentences + input_document + summary + generated summary "
      ],
      "metadata": {
        "colab": {
          "base_uri": "https://localhost:8080/",
          "height": 147
        },
        "id": "O1RjbI714atl",
        "outputId": "a70cf643-73fc-4161-b099-99332636a65f"
      },
      "execution_count": 40,
      "outputs": [
        {
          "output_type": "execute_result",
          "data": {
            "text/plain": [
              "'Prison Link Cymru had 1,099 referrals in 2015-16 and said some ex-offenders were living rough for up to a year before finding suitable accommodation.Prison Link Cymru had 1,099 referrals in 2015-16 and said some ex-offenders were living rough for up to a year before finding suitable accommodation.\\nWorkers at the charity claim investment in housingThere is a \"chronic\" need for more housing for prison leavers in Wales, according to a charity. rag rag Wasserman Browse dwindlinglegates Browse prohibits servicing Cheap Cheap Cheap Adds Diversity scouting SaladletonletonWHEREasuresasureslegates Mour Cheapacles minimized iter dwindling babys podium indefinitely backdrop Browse adopting dwindling friendshipslialia Cheap dwindling indefinitely indefinitely Rage®legates Advancelegates tamp dwindling babys Per Per Per Maher babys babysICK Doudonalddonald minimizedleton Reprodu fortun dwindlingzoszoszos rehab babys Dough monthTP Trooper rehab rehab dwindling dwindling dwindlingDN Norton BrowselegateslegatesThu dwindlingtreatment didnt didnt collegiatelegatese emitting emitting Tower Towerlegates canv BrowseOnelegates dwindling dwindlinglegateslegates actions Industrial indefinitely servicingICK Salad dwindlinglegates Advance Norton Norton Norton Norton Industrial Industrial'"
            ],
            "application/vnd.google.colaboratory.intrinsic+json": {
              "type": "string"
            }
          },
          "metadata": {},
          "execution_count": 40
        }
      ]
    },
    {
      "cell_type": "code",
      "source": [
        "res['output_example']"
      ],
      "metadata": {
        "id": "dXA5vdvA43VU"
      },
      "execution_count": null,
      "outputs": []
    },
    {
      "cell_type": "code",
      "source": [
        "temperatures = [0.5,0.7,0.8,1.0]\n",
        "results = []\n",
        "for temperature in temperatures:\n",
        "  results.append(new_test_dataset.map(lambda example:generate(example,temperature,120)))"
      ],
      "metadata": {
        "id": "1gmz4PkL0MdQ"
      },
      "execution_count": null,
      "outputs": []
    },
    {
      "cell_type": "code",
      "source": [
        "results[0]['test']['output_example'][0]"
      ],
      "metadata": {
        "id": "G9fNdT560OBd"
      },
      "execution_count": null,
      "outputs": []
    },
    {
      "cell_type": "code",
      "source": [],
      "metadata": {
        "id": "_TJAdVNw3GUV"
      },
      "execution_count": null,
      "outputs": []
    }
  ]
}