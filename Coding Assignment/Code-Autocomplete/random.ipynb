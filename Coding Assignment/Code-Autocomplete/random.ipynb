{
 "cells": [
  {
   "cell_type": "code",
   "execution_count": 2,
   "metadata": {},
   "outputs": [
    {
     "data": {
      "text/plain": [
       "Index(['months_as_customer', 'age', 'policy_number', 'policy_state',\n",
       "       'policy_csl', 'policy_deductable', 'policy_annual_premium',\n",
       "       'umbrella_limit', 'insured_sex', 'insured_education_level',\n",
       "       'insured_occupation', 'insured_hobbies', 'insured_relationship',\n",
       "       'incident_date', 'incident_type', 'collision_type', 'incident_severity',\n",
       "       'incident_state', 'incident_city', 'incident_hour_of_the_day',\n",
       "       'number_of_vehicles_involved', 'property_damage', 'bodily_injuries',\n",
       "       'police_report_available', 'total_claim_amount', 'injury_claim',\n",
       "       'property_claim', 'vehicle_claim', 'auto_make', 'auto_model',\n",
       "       'auto_year', 'fraud_reported'],\n",
       "      dtype='object')"
      ]
     },
     "execution_count": 2,
     "metadata": {},
     "output_type": "execute_result"
    }
   ],
   "source": [
    "import pandas as pd\n",
    "\n",
    "data = pd.read_csv('C:\\\\Users\\\\koira\\\\Downloads\\\\insurance_claims_data-Subset.csv')\n",
    "data.columns"
   ]
  },
  {
   "cell_type": "code",
   "execution_count": null,
   "metadata": {},
   "outputs": [],
   "source": []
  }
 ],
 "metadata": {
  "kernelspec": {
   "display_name": "Python 3",
   "language": "python",
   "name": "python3"
  },
  "language_info": {
   "codemirror_mode": {
    "name": "ipython",
    "version": 3
   },
   "file_extension": ".py",
   "mimetype": "text/x-python",
   "name": "python",
   "nbconvert_exporter": "python",
   "pygments_lexer": "ipython3",
   "version": "3.9.13"
  },
  "orig_nbformat": 4,
  "vscode": {
   "interpreter": {
    "hash": "bb0cb95bfde73c68cb05ded0c6f48850cf566e0c9ce35e8d90131e8707a36ff6"
   }
  }
 },
 "nbformat": 4,
 "nbformat_minor": 2
}
