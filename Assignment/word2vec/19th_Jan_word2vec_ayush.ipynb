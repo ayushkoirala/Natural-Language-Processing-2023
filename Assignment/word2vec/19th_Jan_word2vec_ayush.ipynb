{
 "cells": [
  {
   "cell_type": "code",
   "execution_count": 17,
   "metadata": {},
   "outputs": [],
   "source": [
    "import torch\n",
    "import numpy as np\n",
    "import torch.nn as nn\n",
    "import torch.optim as optim\n",
    "import matplotlib.pyplot as plt\n",
    "import spacy"
   ]
  },
  {
   "attachments": {},
   "cell_type": "markdown",
   "metadata": {},
   "source": [
    "**Loading Custom Dataset**"
   ]
  },
  {
   "cell_type": "code",
   "execution_count": 18,
   "metadata": {},
   "outputs": [],
   "source": [
    "corpus = \"I mean seriously The website is so popular that it cannot handle all the traffic And my only option is to check back soon It is like they are saying Sorry we are too popular right now. Try again later But seriously how many times can I check back before I just give up and try a different chatbot I donot have all day to wait for my turn to talk to a robot. I guess I will just have to stick to talking to my cat for now. At least he doesnot have a waiting list Just remember if you are trying to chat with ChatGPT and you get the same error message donot worry It just means you are not the only one who wanted to try out this fancy AI chatbot\""
   ]
  },
  {
   "attachments": {},
   "cell_type": "markdown",
   "metadata": {},
   "source": [
    "Since the dataset contain Small and Capital letter so, i try to convert Capital to small letter using spacy. "
   ]
  },
  {
   "cell_type": "code",
   "execution_count": 19,
   "metadata": {},
   "outputs": [
    {
     "data": {
      "text/plain": [
       "['i',\n",
       " 'mean',\n",
       " 'seriously',\n",
       " 'the',\n",
       " 'website',\n",
       " 'is',\n",
       " 'so',\n",
       " 'popular',\n",
       " 'that',\n",
       " 'it',\n",
       " 'can',\n",
       " 'not',\n",
       " 'handle',\n",
       " 'all',\n",
       " 'the']"
      ]
     },
     "execution_count": 19,
     "metadata": {},
     "output_type": "execute_result"
    }
   ],
   "source": [
    "convert = spacy.load(\"en_core_web_sm\")\n",
    "# .lower to change all of words to lower case\n",
    "corpus_lower = convert(corpus.lower())\n",
    "\n",
    "# Get list of word from corpus tokenized because it easier to work with (I do not sure the correct ways to\n",
    "# do this but I think this should be ok for now)\n",
    "word_list = []\n",
    "for word in corpus_lower:\n",
    "    word_list.append(''+word.text+'')\n",
    "\n",
    "word_list[0:15]"
   ]
  },
  {
   "attachments": {},
   "cell_type": "markdown",
   "metadata": {},
   "source": [
    "After converting every character to small letter; I try to use same format that we use on class like [[],[],[]]."
   ]
  },
  {
   "cell_type": "code",
   "execution_count": 20,
   "metadata": {},
   "outputs": [
    {
     "data": {
      "text/plain": [
       "[['i',\n",
       "  'mean',\n",
       "  'seriously',\n",
       "  'the',\n",
       "  'website',\n",
       "  'is',\n",
       "  'so',\n",
       "  'popular',\n",
       "  'that',\n",
       "  'it',\n",
       "  'can',\n",
       "  'not',\n",
       "  'handle',\n",
       "  'all',\n",
       "  'the',\n",
       "  'traffic',\n",
       "  'and',\n",
       "  'my',\n",
       "  'only',\n",
       "  'option'],\n",
       " ['is',\n",
       "  'to',\n",
       "  'check',\n",
       "  'back',\n",
       "  'soon',\n",
       "  'it',\n",
       "  'is',\n",
       "  'like',\n",
       "  'they',\n",
       "  'are',\n",
       "  'saying',\n",
       "  'sorry',\n",
       "  'we',\n",
       "  'are',\n",
       "  'too',\n",
       "  'popular',\n",
       "  'right',\n",
       "  'now',\n",
       "  '.',\n",
       "  'try'],\n",
       " ['again',\n",
       "  'later',\n",
       "  'but',\n",
       "  'seriously',\n",
       "  'how',\n",
       "  'many',\n",
       "  'times',\n",
       "  'can',\n",
       "  'i',\n",
       "  'check',\n",
       "  'back',\n",
       "  'before',\n",
       "  'i',\n",
       "  'just',\n",
       "  'give',\n",
       "  'up',\n",
       "  'and',\n",
       "  'try',\n",
       "  'a',\n",
       "  'different'],\n",
       " ['chatbot',\n",
       "  'i',\n",
       "  'donot',\n",
       "  'have',\n",
       "  'all',\n",
       "  'day',\n",
       "  'to',\n",
       "  'wait',\n",
       "  'for',\n",
       "  'my',\n",
       "  'turn',\n",
       "  'to',\n",
       "  'talk',\n",
       "  'to',\n",
       "  'a',\n",
       "  'robot',\n",
       "  '.',\n",
       "  'i',\n",
       "  'guess',\n",
       "  'i'],\n",
       " ['will',\n",
       "  'just',\n",
       "  'have',\n",
       "  'to',\n",
       "  'stick',\n",
       "  'to',\n",
       "  'talking',\n",
       "  'to',\n",
       "  'my',\n",
       "  'cat',\n",
       "  'for',\n",
       "  'now',\n",
       "  '.',\n",
       "  'at',\n",
       "  'least',\n",
       "  'he',\n",
       "  'doesnot',\n",
       "  'have',\n",
       "  'a',\n",
       "  'waiting']]"
      ]
     },
     "execution_count": 20,
     "metadata": {},
     "output_type": "execute_result"
    }
   ],
   "source": [
    "corpus_tokenized = []\n",
    "temp1 = []\n",
    "counter = 0\n",
    "for word in word_list:\n",
    "    if counter == 20:\n",
    "        corpus_tokenized.append(temp1)\n",
    "        counter = 0\n",
    "        temp1 = []\n",
    "    temp1.append(word)\n",
    "    counter = counter + 1\n",
    "\n",
    "corpus_tokenized[0:5]"
   ]
  },
  {
   "attachments": {},
   "cell_type": "markdown",
   "metadata": {},
   "source": [
    "Getting unique word."
   ]
  },
  {
   "cell_type": "code",
   "execution_count": 21,
   "metadata": {},
   "outputs": [
    {
     "data": {
      "text/plain": [
       "['for',\n",
       " 'list',\n",
       " 'saying',\n",
       " 'check',\n",
       " 'doesnot',\n",
       " 'traffic',\n",
       " 'times',\n",
       " 'the',\n",
       " 'that',\n",
       " 'trying',\n",
       " 'they',\n",
       " 'day',\n",
       " 'chatbot',\n",
       " 'least',\n",
       " 'a',\n",
       " 'i',\n",
       " 'talking',\n",
       " 'option',\n",
       " 'are',\n",
       " 'many',\n",
       " 'before',\n",
       " 'how',\n",
       " 'remember',\n",
       " 'only',\n",
       " 'robot',\n",
       " 'like',\n",
       " '.',\n",
       " 'waiting',\n",
       " 'chatgpt',\n",
       " 'later',\n",
       " 'seriously',\n",
       " 'talk',\n",
       " 'back',\n",
       " 'at',\n",
       " 'try',\n",
       " 'all',\n",
       " 'sorry',\n",
       " 'chat',\n",
       " 'stick',\n",
       " 'popular',\n",
       " 'guess',\n",
       " 'wait',\n",
       " 'you',\n",
       " 'he',\n",
       " 'it',\n",
       " 'can',\n",
       " 'with',\n",
       " 'error',\n",
       " 'worry',\n",
       " 'handle',\n",
       " 'cat',\n",
       " 'now',\n",
       " 'to',\n",
       " 'get',\n",
       " 'turn',\n",
       " 'too',\n",
       " 'will',\n",
       " 'again',\n",
       " 'up',\n",
       " 'so',\n",
       " 'same',\n",
       " 'message',\n",
       " 'give',\n",
       " 'and',\n",
       " 'if',\n",
       " 'donot',\n",
       " 'we',\n",
       " 'right',\n",
       " 'website',\n",
       " 'different',\n",
       " 'but',\n",
       " 'just',\n",
       " 'soon',\n",
       " 'mean',\n",
       " 'my',\n",
       " 'not',\n",
       " 'is',\n",
       " 'have']"
      ]
     },
     "execution_count": 21,
     "metadata": {},
     "output_type": "execute_result"
    }
   ],
   "source": [
    "# Get word sequences and unique words\n",
    "flatten = lambda l: [item for sublist in l for item in sublist]\n",
    "vocab = list(set(flatten(corpus_tokenized)))\n",
    "vocab"
   ]
  },
  {
   "cell_type": "code",
   "execution_count": 22,
   "metadata": {},
   "outputs": [
    {
     "name": "stdout",
     "output_type": "stream",
     "text": [
      "{'for': 0, 'list': 1, 'saying': 2, 'check': 3, 'doesnot': 4, 'traffic': 5, 'times': 6, 'the': 7, 'that': 8, 'trying': 9, 'they': 10, 'day': 11, 'chatbot': 12, 'least': 13, 'a': 14, 'i': 15, 'talking': 16, 'option': 17, 'are': 18, 'many': 19, 'before': 20, 'how': 21, 'remember': 22, 'only': 23, 'robot': 24, 'like': 25, '.': 26, 'waiting': 27, 'chatgpt': 28, 'later': 29, 'seriously': 30, 'talk': 31, 'back': 32, 'at': 33, 'try': 34, 'all': 35, 'sorry': 36, 'chat': 37, 'stick': 38, 'popular': 39, 'guess': 40, 'wait': 41, 'you': 42, 'he': 43, 'it': 44, 'can': 45, 'with': 46, 'error': 47, 'worry': 48, 'handle': 49, 'cat': 50, 'now': 51, 'to': 52, 'get': 53, 'turn': 54, 'too': 55, 'will': 56, 'again': 57, 'up': 58, 'so': 59, 'same': 60, 'message': 61, 'give': 62, 'and': 63, 'if': 64, 'donot': 65, 'we': 66, 'right': 67, 'website': 68, 'different': 69, 'but': 70, 'just': 71, 'soon': 72, 'mean': 73, 'my': 74, 'not': 75, 'is': 76, 'have': 77}\n"
     ]
    }
   ],
   "source": [
    "# Numericalize\n",
    "\n",
    "word2index = {w: i for i, w in enumerate(vocab)}\n",
    "index2word = {v:k for k, v in word2index.items()}\n",
    "\n",
    "print(word2index)"
   ]
  },
  {
   "attachments": {},
   "cell_type": "markdown",
   "metadata": {},
   "source": [
    "Now we use UNK, unk, < unk >  are variants of a symbol in natural language processing and machine translation to indicate an out-of-vocabulary word. Many language models do calculations upon representations of the n most frequent words in the corpus. Words that are less frequent are replaced with the < unk > symbol."
   ]
  },
  {
   "cell_type": "code",
   "execution_count": 23,
   "metadata": {},
   "outputs": [],
   "source": [
    "vocab.append('<UNK>')\n",
    "word2index['<UNK>'] = 0"
   ]
  },
  {
   "attachments": {},
   "cell_type": "markdown",
   "metadata": {},
   "source": [
    "Now making random batch considering any window size"
   ]
  },
  {
   "cell_type": "code",
   "execution_count": 24,
   "metadata": {},
   "outputs": [],
   "source": [
    "#reference https://www.kaggle.com/code/alincijov/nlp-starter-continuous-bag-of-words-cbow\n",
    "def random_batch(batch_size, corpus,windowsize):\n",
    "    \n",
    "    skipgrams = []\n",
    "\n",
    "    #for each corpus\n",
    "    for sent in corpus_tokenized:\n",
    "        for i in range(windowsize, len(sent) - windowsize): \n",
    "            center_word = word2index[sent[i]]\n",
    "            for j in range(1,windowsize+1):\n",
    "                outside_words = [word2index[sent[i-j]], word2index[sent[i+j]]]  \n",
    "                for o in outside_words:\n",
    "                    skipgrams.append([center_word, o])\n",
    "                \n",
    "   \n",
    "    random_index = np.random.choice(range(len(skipgrams)), batch_size, replace=False)\n",
    "             \n",
    "    #appending some list of inputs and labels\n",
    "    random_inputs, random_labels = [], []   \n",
    "    for index in random_index:\n",
    "        random_inputs.append([skipgrams[index][0]])  \n",
    "        random_labels.append([skipgrams[index][1]])\n",
    "        \n",
    "    return np.array(random_inputs), np.array(random_labels)"
   ]
  },
  {
   "attachments": {},
   "cell_type": "markdown",
   "metadata": {},
   "source": [
    "Now, Testing the model"
   ]
  },
  {
   "cell_type": "code",
   "execution_count": 25,
   "metadata": {},
   "outputs": [
    {
     "name": "stdout",
     "output_type": "stream",
     "text": [
      "Input:  (2, 1)\n",
      "Target:  (2, 1)\n"
     ]
    }
   ],
   "source": [
    "batch_size =2 \n",
    "window_size = 2\n",
    "\n",
    "input_batch, target_batch = random_batch(batch_size, corpus_tokenized, window_size)\n",
    "\n",
    "print(\"Input: \", input_batch.shape)\n",
    "print(\"Target: \", target_batch.shape)"
   ]
  },
  {
   "attachments": {},
   "cell_type": "markdown",
   "metadata": {},
   "source": [
    "Now, making a model"
   ]
  },
  {
   "cell_type": "code",
   "execution_count": 26,
   "metadata": {},
   "outputs": [],
   "source": [
    "class Skipgram(nn.Module):\n",
    "    \n",
    "    def __init__(self, voc_size, emb_size):\n",
    "        super(Skipgram, self).__init__()\n",
    "        self.embedding_center_word  = nn.Embedding(voc_size, emb_size)  #is a lookup table mapping all ids in voc_size, into some vector of size emb_size\n",
    "        self.embedding_outside_word = nn.Embedding(voc_size, emb_size)\n",
    "    \n",
    "    def forward(self, center_word, outside_word, all_vocabs):\n",
    "        #center_word, outside_word: (batch_size, 1)\n",
    "        #all_vocabs: (batch_size, voc_size)\n",
    "        \n",
    "        #convert them into embedding\n",
    "        center_word_embed  = self.embedding_center_word(center_word)     #(batch_size, 1, emb_size)\n",
    "        outside_word_embed = self.embedding_outside_word(outside_word)   #(batch_size, 1, emb_size)\n",
    "        all_vocabs_embed   = self.embedding_outside_word(all_vocabs)     #(batch_size, voc_size, emb_size)\n",
    "        \n",
    "        #bmm is basically @ or .dot , but across batches (i.e., ignore the batch dimension)\n",
    "        top_term = outside_word_embed.bmm(center_word_embed.transpose(1, 2)).squeeze(2)\n",
    "        #(batch_size, 1, emb_size) @ (batch_size, emb_size, 1) = (batch_size, 1, 1) ===> (batch_size, 1)\n",
    "        \n",
    "        top_term_exp = torch.exp(top_term)  #exp(uo vc)\n",
    "        #(batch_size, 1)\n",
    "        \n",
    "        lower_term = all_vocabs_embed.bmm(center_word_embed.transpose(1, 2)).squeeze(2)\n",
    "         #(batch_size, voc_size, emb_size) @ (batch_size, emb_size, 1) = (batch_size, voc_size, 1) = (batch_size, voc_size)\n",
    "         \n",
    "        lower_term_sum = torch.sum(torch.exp(lower_term), 1) #sum exp(uw vc)\n",
    "        #(batch_size, 1)\n",
    "        \n",
    "        loss_fn = -torch.mean(torch.log(top_term_exp / lower_term_sum))\n",
    "        #(batch_size, 1) / (batch_size, 1) ==mean==> scalar\n",
    "        \n",
    "        return loss_fn"
   ]
  },
  {
   "cell_type": "code",
   "execution_count": 27,
   "metadata": {},
   "outputs": [
    {
     "data": {
      "text/plain": [
       "79"
      ]
     },
     "execution_count": 27,
     "metadata": {},
     "output_type": "execute_result"
    }
   ],
   "source": [
    "voc_size = len(vocab)\n",
    "voc_size"
   ]
  },
  {
   "cell_type": "code",
   "execution_count": 28,
   "metadata": {},
   "outputs": [],
   "source": [
    "class Skipgram(nn.Module):\n",
    "    \n",
    "    def __init__(self, voc_size, emb_size):\n",
    "        super(Skipgram, self).__init__()\n",
    "        self.embedding_center_word  = nn.Embedding(voc_size, emb_size)  #is a lookup table mapping all ids in voc_size, into some vector of size emb_size\n",
    "        self.embedding_outside_word = nn.Embedding(voc_size, emb_size)\n",
    "    \n",
    "    def forward(self, center_word, outside_word, all_vocabs):\n",
    "        \n",
    "        #convert them into embedding\n",
    "        center_word_embed  = self.embedding_center_word(center_word)     #(batch_size, 1, emb_size)\n",
    "        outside_word_embed = self.embedding_outside_word(outside_word)   #(batch_size, 1, emb_size)\n",
    "        all_vocabs_embed   = self.embedding_outside_word(all_vocabs)     #(batch_size, voc_size, emb_size)\n",
    "        \n",
    "        #bmm is basically @ or .dot , but across batches (i.e., ignore the batch dimension)\n",
    "        top_term = outside_word_embed.bmm(center_word_embed.transpose(1, 2)).squeeze(2)\n",
    "        #(batch_size, 1, emb_size) @ (batch_size, emb_size, 1) = (batch_size, 1, 1) ===> (batch_size, 1)\n",
    "        \n",
    "        top_term_exp = torch.exp(top_term)  #exp(uo vc)\n",
    "        #(batch_size, 1)\n",
    "        \n",
    "        lower_term = all_vocabs_embed.bmm(center_word_embed.transpose(1, 2)).squeeze(2)\n",
    "         #(batch_size, voc_size, emb_size) @ (batch_size, emb_size, 1) = (batch_size, voc_size, 1) = (batch_size, voc_size)\n",
    "         \n",
    "        lower_term_sum = torch.sum(torch.exp(lower_term), 1) #sum exp(uw vc)\n",
    "        #(batch_size, 1)\n",
    "        \n",
    "        loss_fn = -torch.mean(torch.log(top_term_exp / lower_term_sum))\n",
    "        #(batch_size, 1) / (batch_size, 1) ==mean==> scalar\n",
    "        \n",
    "        return loss_fn"
   ]
  },
  {
   "cell_type": "code",
   "execution_count": 53,
   "metadata": {},
   "outputs": [
    {
     "name": "stdout",
     "output_type": "stream",
     "text": [
      "{'for': 0, 'list': 1, 'saying': 2, 'check': 3, 'doesnot': 4, 'traffic': 5, 'times': 6, 'the': 7, 'that': 8, 'trying': 9, 'they': 10, 'day': 11, 'chatbot': 12, 'least': 13, 'a': 14, 'i': 15, 'talking': 16, 'option': 17, 'are': 18, 'many': 19, 'before': 20, 'how': 21, 'remember': 22, 'only': 23, 'robot': 24, 'like': 25, '.': 26, 'waiting': 27, 'chatgpt': 28, 'later': 29, 'seriously': 30, 'talk': 31, 'back': 32, 'at': 33, 'try': 34, 'all': 35, 'sorry': 36, 'chat': 37, 'stick': 38, 'popular': 39, 'guess': 40, 'wait': 41, 'you': 42, 'he': 43, 'it': 44, 'can': 45, 'with': 46, 'error': 47, 'worry': 48, 'handle': 49, 'cat': 50, 'now': 51, 'to': 52, 'get': 53, 'turn': 54, 'too': 55, 'will': 56, 'again': 57, 'up': 58, 'so': 59, 'same': 60, 'message': 61, 'give': 62, 'and': 63, 'if': 64, 'donot': 65, 'we': 66, 'right': 67, 'website': 68, 'different': 69, 'but': 70, 'just': 71, 'soon': 72, 'mean': 73, 'my': 74, 'not': 75, 'is': 76, 'have': 77, '<UNK>': 0}\n"
     ]
    }
   ],
   "source": [
    "print(word2index)"
   ]
  },
  {
   "cell_type": "code",
   "execution_count": 29,
   "metadata": {},
   "outputs": [
    {
     "data": {
      "text/plain": [
       "torch.Size([10, 79])"
      ]
     },
     "execution_count": 29,
     "metadata": {},
     "output_type": "execute_result"
    }
   ],
   "source": [
    "batch_size = 10\n",
    "\n",
    "def prepare_sequence(seq, word2index):\n",
    "    #map(function, list of something)\n",
    "    #map will look at each of element in this list, and apply this function\n",
    "    idxs = list(map(lambda w: word2index[w] if word2index.get(w) is not None else word2index[\"<UNK>\"], seq))\n",
    "    return torch.LongTensor(idxs)\n",
    "\n",
    "all_vocabs = prepare_sequence(list(vocab), word2index).expand(batch_size, voc_size)\n",
    "all_vocabs.shape"
   ]
  },
  {
   "cell_type": "code",
   "execution_count": 30,
   "metadata": {},
   "outputs": [],
   "source": [
    "def epoch_time(start_time, end_time):\n",
    "    elapsed_time = end_time - start_time\n",
    "    elapsed_mins = int(elapsed_time / 60)\n",
    "    elapsed_secs = int(elapsed_time - (elapsed_mins * 60))\n",
    "    return elapsed_mins, elapsed_secs"
   ]
  },
  {
   "cell_type": "code",
   "execution_count": 31,
   "metadata": {},
   "outputs": [],
   "source": [
    "voc_size = len(vocab)"
   ]
  },
  {
   "cell_type": "code",
   "execution_count": 34,
   "metadata": {},
   "outputs": [
    {
     "name": "stdout",
     "output_type": "stream",
     "text": [
      "Epoch: 1000 | cost: 5.348931 | time: 0m 2s\n",
      "Epoch: 2000 | cost: 4.206866 | time: 0m 4s\n",
      "Epoch: 3000 | cost: 4.509042 | time: 0m 7s\n",
      "Epoch: 4000 | cost: 3.816911 | time: 0m 9s\n",
      "Epoch: 5000 | cost: 4.100381 | time: 0m 11s\n",
      "Epoch: 6000 | cost: 4.305826 | time: 0m 13s\n",
      "Epoch: 7000 | cost: 3.749539 | time: 0m 15s\n",
      "Epoch: 8000 | cost: 3.366649 | time: 0m 19s\n",
      "Epoch: 9000 | cost: 3.810990 | time: 0m 21s\n",
      "Epoch: 10000 | cost: 3.505268 | time: 0m 25s\n"
     ]
    }
   ],
   "source": [
    "batch_size     = 10 # mini-batch size\n",
    "embedding_size = 2 #so we can later plot\n",
    "window_size=2\n",
    "model  = Skipgram(voc_size, embedding_size)\n",
    "\n",
    "criterion = nn.CrossEntropyLoss()\n",
    "optimizer = optim.Adam(model.parameters(), lr=0.001)\n",
    "import time\n",
    "\n",
    "# Training\n",
    "start_train_time = time.time()\n",
    "num_epochs = 10000\n",
    "start = time.time()\n",
    "for epoch in range(num_epochs):\n",
    "    \n",
    "    input_batch, target_batch = random_batch(batch_size, corpus_tokenized, window_size)\n",
    "    input_batch  = torch.LongTensor(input_batch)  #[batch_size, 1]\n",
    "    target_batch = torch.LongTensor(target_batch) #[batch_size, 1]\n",
    "\n",
    "    optimizer.zero_grad()\n",
    "    loss = model(input_batch, target_batch, all_vocabs)\n",
    "    \n",
    "    loss.backward()\n",
    "    optimizer.step()\n",
    "    \n",
    "    if (epoch + 1) % 1000 == 0:\n",
    "        end = time.time()\n",
    "        epoch_mins, epoch_secs = epoch_time(start, end)\n",
    "        print(f\"Epoch: {epoch + 1} | cost: {loss:.6f} | time: {epoch_mins}m {epoch_secs}s\")\n",
    "        \n"
   ]
  },
  {
   "cell_type": "code",
   "execution_count": 35,
   "metadata": {},
   "outputs": [
    {
     "data": {
      "image/png": "[encoded data removed]",
      "text/plain": [
       "<Figure size 432x216 with 1 Axes>"
      ]
     },
     "metadata": {
      "needs_background": "light"
     },
     "output_type": "display_data"
    }
   ],
   "source": [
    "def get_embed(word):\n",
    "    id_tensor = torch.LongTensor([word2index[word]])\n",
    "    v_embed = model.embedding_center_word(id_tensor)\n",
    "    u_embed = model.embedding_outside_word(id_tensor) \n",
    "    word_embed = (v_embed + u_embed) / 2 \n",
    "    x, y = word_embed[0][0].item(), word_embed[0][1].item()\n",
    "\n",
    "    return x, y\n",
    "\n",
    "plt.figure(figsize=(6,3))\n",
    "for i, word in enumerate(vocab[:20]): #loop each unique vocab\n",
    "    x, y = get_embed(word)\n",
    "    plt.scatter(x, y)\n",
    "    plt.annotate(word, xy=(x, y), xytext=(5, 2), textcoords='offset points')\n",
    "plt.title('Window size of 2')\n",
    "plt.show()"
   ]
  },
  {
   "attachments": {},
   "cell_type": "markdown",
   "metadata": {},
   "source": [
    "Now using **CBOW**\n",
    "\n",
    "In the CBOW model, the distributed representations of context (or surrounding words) are combined to predict the word in the middle ."
   ]
  },
  {
   "cell_type": "code",
   "execution_count": 36,
   "metadata": {},
   "outputs": [],
   "source": [
    "def random_batch_cbow(batch_size, word_sequence, window_size=1):\n",
    "\n",
    "    cbow = []\n",
    "\n",
    "    for sent in corpus_tokenized:\n",
    "        for i in range(1, len(sent) - 1): \n",
    "            target = word2index[sent[i]]\n",
    "            context = []\n",
    "            \n",
    "            for j in range(window_size):\n",
    "                \n",
    "                if i - (j + 1) >= 0: \n",
    "                    context.append(word2index[sent[i - (j + 1)]])\n",
    "                \n",
    "                if i + (j + 1) < len(sent): \n",
    "                    context.append(word2index[sent[i + (j + 1)]])\n",
    "            for w in context:\n",
    "                cbow.append([context, target])\n",
    "    \n",
    "    random_inputs = []\n",
    "    random_labels = []\n",
    "    random_index = np.random.choice(range(len(cbow)), batch_size, replace=False) #randomly pick without replacement\n",
    "    \n",
    "    for i in random_index:\n",
    "        random_inputs.append(cbow[i][0])  # Context word that we want as input\n",
    "        random_labels.append([cbow[i][1]])  # Target word that we want as label\n",
    "    \n",
    "    return np.array(random_inputs), np.array(random_labels)"
   ]
  },
  {
   "cell_type": "code",
   "execution_count": 37,
   "metadata": {},
   "outputs": [],
   "source": [
    "class Cbow(nn.Module):\n",
    "    \n",
    "    def __init__(self, voc_size, emb_size):\n",
    "        super(Cbow, self).__init__()\n",
    "        self.embedding_center_word  = nn.Embedding(voc_size, emb_size)  #is a lookup table mapping all ids in voc_size, into some vector of size emb_size\n",
    "        self.embedding_outside_word = nn.Embedding(voc_size, emb_size)\n",
    "    \n",
    "    def forward(self, center_word, outside_word, all_vocabs):\n",
    "        \n",
    "        #convert them into embedding\n",
    "        center_word_embed  = self.embedding_center_word(center_word)     #(batch_size, 1, emb_size)\n",
    "        outside_word_embed = self.embedding_outside_word(outside_word)   #(batch_size, 1, emb_size)\n",
    "        all_vocabs_embed   = self.embedding_outside_word(all_vocabs)     #(batch_size, voc_size, emb_size)\n",
    "        \n",
    "        #bmm is basically @ or .dot , but across batches (i.e., ignore the batch dimension)\n",
    "        top_term = outside_word_embed.bmm(center_word_embed.transpose(1, 2)).squeeze(2)\n",
    "        #(batch_size, 1, emb_size) @ (batch_size, emb_size, 1) = (batch_size, 1, 1) ===> (batch_size, 1)\n",
    "        \n",
    "        top_term_exp = torch.exp(top_term)  #exp(uo vc)\n",
    "        #(batch_size, 1)\n",
    "        \n",
    "        lower_term = all_vocabs_embed.bmm(center_word_embed.transpose(1, 2)).squeeze(2)\n",
    "         #(batch_size, voc_size, emb_size) @ (batch_size, emb_size, 1) = (batch_size, voc_size, 1) = (batch_size, voc_size)\n",
    "         \n",
    "        lower_term_sum = torch.sum(torch.exp(lower_term), 1) #sum exp(uw vc)\n",
    "        #(batch_size, 1)\n",
    "        \n",
    "        loss_fn = -torch.mean(torch.log(top_term_exp / lower_term_sum))\n",
    "        #(batch_size, 1) / (batch_size, 1) ==mean==> scalar\n",
    "        \n",
    "        return loss_fn"
   ]
  },
  {
   "cell_type": "code",
   "execution_count": 40,
   "metadata": {},
   "outputs": [],
   "source": [
    "batch_size     = 10 # mini-batch size\n",
    "embedding_size = 2 #so we can later plot\n",
    "model          = Cbow(voc_size, embedding_size)\n",
    "\n",
    "criterion = nn.CrossEntropyLoss()\n",
    "optimizer = optim.Adam(model.parameters(), lr=0.001)"
   ]
  },
  {
   "cell_type": "code",
   "execution_count": 41,
   "metadata": {},
   "outputs": [
    {
     "name": "stdout",
     "output_type": "stream",
     "text": [
      "Epoch: 1000 | cost: 4.412616 | time: 0m 2s\n",
      "Epoch: 2000 | cost: 4.099398 | time: 0m 3s\n",
      "Epoch: 3000 | cost: 3.088960 | time: 0m 5s\n",
      "Epoch: 4000 | cost: 4.224864 | time: 0m 8s\n",
      "Epoch: 5000 | cost: 3.129827 | time: 0m 11s\n",
      "Epoch: 6000 | cost: 3.143769 | time: 0m 14s\n",
      "Epoch: 7000 | cost: 3.260338 | time: 0m 15s\n",
      "Epoch: 8000 | cost: 2.730819 | time: 0m 17s\n",
      "Epoch: 9000 | cost: 3.381090 | time: 0m 19s\n",
      "Epoch: 10000 | cost: 3.411564 | time: 0m 21s\n"
     ]
    }
   ],
   "source": [
    "import time\n",
    "num_epochs = 10000\n",
    "start = time.time()\n",
    "for epoch in range(num_epochs):\n",
    "    \n",
    "    input_batch, target_batch = random_batch_cbow(batch_size, corpus_tokenized)\n",
    "    input_batch  = torch.LongTensor(input_batch)  #[batch_size, 1]\n",
    "    target_batch = torch.LongTensor(target_batch) #[batch_size, 1]\n",
    "\n",
    "    optimizer.zero_grad()\n",
    "    loss = model(input_batch, target_batch, all_vocabs)\n",
    "    \n",
    "    loss.backward()\n",
    "    optimizer.step()\n",
    "    \n",
    "    if (epoch + 1) % 1000 == 0:\n",
    "        end = time.time()\n",
    "        epoch_mins, epoch_secs = epoch_time(start, end)\n",
    "        print(f\"Epoch: {epoch + 1} | cost: {loss:.6f} | time: {epoch_mins}m {epoch_secs}s\")"
   ]
  },
  {
   "cell_type": "code",
   "execution_count": 42,
   "metadata": {},
   "outputs": [
    {
     "data": {
      "image/png": "[encoded data removed]",
      "text/plain": [
       "<Figure size 432x216 with 1 Axes>"
      ]
     },
     "metadata": {
      "needs_background": "light"
     },
     "output_type": "display_data"
    }
   ],
   "source": [
    "plt.figure(figsize=(6,3))\n",
    "for i, word in enumerate(vocab[:20]): #loop each unique vocab\n",
    "    x, y = get_embed(word)\n",
    "    plt.scatter(x, y)\n",
    "    plt.annotate(word, xy=(x, y), xytext=(5, 2), textcoords='offset points')\n",
    "plt.title('Cbow with window size of 2')\n",
    "plt.show()"
   ]
  },
  {
   "attachments": {},
   "cell_type": "markdown",
   "metadata": {},
   "source": [
    "Now using Negative Sampling\n"
   ]
  },
  {
   "cell_type": "code",
   "execution_count": 43,
   "metadata": {},
   "outputs": [],
   "source": [
    "import random\n",
    "\n",
    "\n",
    "def prepare_sequence(seq, word2index):\n",
    "    idxs = list(map(lambda w: word2index[w] if word2index.get(w) is not None else word2index[\"<UNK>\"], seq))\n",
    "    return torch.LongTensor(idxs)\n",
    "\n",
    "def negative_sampling(targets, unigram_table, k):\n",
    "    batch_size = targets.size(0)\n",
    "    neg_samples = []\n",
    "    for i in range(batch_size):\n",
    "        nsample = []\n",
    "        target_index = targets[i].item()\n",
    "        while len(nsample) < k: # num of sampling\n",
    "            neg = random.choice(unigram_table)\n",
    "            if word2index[neg] == target_index:\n",
    "                continue\n",
    "            nsample.append(neg)\n",
    "        neg_samples.append(prepare_sequence(nsample, word2index).view(1, -1))\n",
    "    \n",
    "    return torch.cat(neg_samples)"
   ]
  },
  {
   "cell_type": "code",
   "execution_count": 44,
   "metadata": {},
   "outputs": [],
   "source": [
    "input_batch  = torch.Tensor(input_batch)\n",
    "target_batch = torch.LongTensor(target_batch)"
   ]
  },
  {
   "cell_type": "code",
   "execution_count": 45,
   "metadata": {},
   "outputs": [],
   "source": [
    "from collections import Counter\n",
    "Z = 0.001\n",
    "word_count = Counter(flatten(corpus_tokenized))\n",
    "num_total_words = sum([c for w, c in word_count.items()])\n",
    "\n",
    "unigram_table = []\n",
    "\n",
    "for vo in vocab:\n",
    "    unigram_table.extend([vo] * int(((word_count[vo]/num_total_words)**0.75)/Z))"
   ]
  },
  {
   "cell_type": "code",
   "execution_count": 46,
   "metadata": {},
   "outputs": [
    {
     "data": {
      "text/plain": [
       "Counter({'for': 46,\n",
       "         'list': 27,\n",
       "         'saying': 27,\n",
       "         'check': 46,\n",
       "         'doesnot': 27,\n",
       "         'traffic': 27,\n",
       "         'times': 27,\n",
       "         'the': 62,\n",
       "         'that': 27,\n",
       "         'trying': 27,\n",
       "         'they': 27,\n",
       "         'day': 27,\n",
       "         'chatbot': 27,\n",
       "         'least': 27,\n",
       "         'a': 62,\n",
       "         'i': 105,\n",
       "         'talking': 27,\n",
       "         'option': 27,\n",
       "         'are': 62,\n",
       "         'many': 27,\n",
       "         'before': 27,\n",
       "         'how': 27,\n",
       "         'remember': 27,\n",
       "         'only': 27,\n",
       "         'robot': 27,\n",
       "         'like': 27,\n",
       "         '.': 62,\n",
       "         'waiting': 27,\n",
       "         'chatgpt': 27,\n",
       "         'later': 27,\n",
       "         'seriously': 46,\n",
       "         'talk': 27,\n",
       "         'back': 46,\n",
       "         'at': 27,\n",
       "         'try': 46,\n",
       "         'all': 46,\n",
       "         'sorry': 27,\n",
       "         'chat': 27,\n",
       "         'stick': 27,\n",
       "         'popular': 46,\n",
       "         'guess': 27,\n",
       "         'wait': 27,\n",
       "         'you': 46,\n",
       "         'he': 27,\n",
       "         'it': 46,\n",
       "         'can': 46,\n",
       "         'with': 27,\n",
       "         'error': 27,\n",
       "         'worry': 27,\n",
       "         'handle': 27,\n",
       "         'cat': 27,\n",
       "         'now': 46,\n",
       "         'to': 131,\n",
       "         'get': 27,\n",
       "         'turn': 27,\n",
       "         'too': 27,\n",
       "         'will': 27,\n",
       "         'again': 27,\n",
       "         'up': 27,\n",
       "         'so': 27,\n",
       "         'same': 27,\n",
       "         'message': 27,\n",
       "         'give': 27,\n",
       "         'and': 62,\n",
       "         'if': 27,\n",
       "         'donot': 46,\n",
       "         'we': 27,\n",
       "         'right': 27,\n",
       "         'website': 27,\n",
       "         'different': 27,\n",
       "         'but': 27,\n",
       "         'just': 62,\n",
       "         'soon': 27,\n",
       "         'mean': 27,\n",
       "         'my': 62,\n",
       "         'not': 27,\n",
       "         'is': 62,\n",
       "         'have': 62})"
      ]
     },
     "execution_count": 46,
     "metadata": {},
     "output_type": "execute_result"
    }
   ],
   "source": [
    "Counter(unigram_table)"
   ]
  },
  {
   "cell_type": "code",
   "execution_count": 47,
   "metadata": {},
   "outputs": [
    {
     "data": {
      "text/plain": [
       "tensor([[62, 76, 52,  5, 51],\n",
       "        [63, 74, 43,  2, 62],\n",
       "        [ 4, 12, 14, 14, 58],\n",
       "        [15, 43, 30, 76, 35],\n",
       "        [47, 71, 10, 60, 30],\n",
       "        [52, 68, 43, 76, 60],\n",
       "        [52, 68,  8, 18, 71],\n",
       "        [34,  3,  7, 22, 35],\n",
       "        [67, 32, 38, 77, 33],\n",
       "        [30, 34, 14, 34, 54]])"
      ]
     },
     "execution_count": 47,
     "metadata": {},
     "output_type": "execute_result"
    }
   ],
   "source": [
    "num_neg = 5\n",
    "negative_sampling(target_batch, unigram_table, num_neg)"
   ]
  },
  {
   "cell_type": "code",
   "execution_count": 48,
   "metadata": {},
   "outputs": [],
   "source": [
    "class SkipgramNeg(nn.Module):\n",
    "    \n",
    "    def __init__(self, voc_size, emb_size):\n",
    "        super(SkipgramNeg, self).__init__()\n",
    "        self.embedding_center_word  = nn.Embedding(voc_size, emb_size)\n",
    "        self.embedding_outside_word = nn.Embedding(voc_size, emb_size)\n",
    "        self.logsigmoid = nn.LogSigmoid()\n",
    "        \n",
    "    def forward(self, center_words, outside_words, negative_words):\n",
    "        #center_words, outside_words: (batch_size, 1)\n",
    "        #negative_words:  (batch_size, k)\n",
    "        \n",
    "        center_embed  = self.embedding_center_word(center_words)    #(batch_size, 1, emb_size)\n",
    "        outside_embed = self.embedding_outside_word(outside_words)  #(batch_size, 1, emb_size)\n",
    "        neg_embed     = self.embedding_outside_word(negative_words) #(batch_size, k, emb_size)\n",
    "        \n",
    "        uovc          =  outside_embed.bmm(center_embed.transpose(1, 2)).squeeze(2)  #(batch_size, 1)\n",
    "        ukvc          = -neg_embed.bmm(center_embed.transpose(1, 2)).squeeze(2)  #(batch_size, k)\n",
    "        ukvc_sum      =  torch.sum(ukvc, 1).view(-1, 1) #(batch_size, 1)\n",
    "        \n",
    "        loss = self.logsigmoid(uovc) + self.logsigmoid(ukvc_sum)  #(batch_size, 1) + (batch_size, 1)\n",
    "                \n",
    "        return -torch.mean(loss)  #scalar, loss should be scalar, to call backward()"
   ]
  },
  {
   "cell_type": "code",
   "execution_count": 49,
   "metadata": {},
   "outputs": [],
   "source": [
    "batch_size     = 2 \n",
    "embedding_size = 2 \n",
    "model          = SkipgramNeg(voc_size, embedding_size)\n",
    "num_neg        = 10 \n",
    "\n",
    "criterion = nn.CrossEntropyLoss()\n",
    "optimizer = optim.Adam(model.parameters(), lr=0.001)"
   ]
  },
  {
   "cell_type": "code",
   "execution_count": 50,
   "metadata": {},
   "outputs": [
    {
     "name": "stdout",
     "output_type": "stream",
     "text": [
      "Epoch: 1000 | cost: 1.472255 | time: 0m 0s\n",
      "Epoch: 2000 | cost: 2.422645 | time: 0m 0s\n",
      "Epoch: 3000 | cost: 1.843784 | time: 0m 0s\n",
      "Epoch: 4000 | cost: 0.976805 | time: 0m 0s\n",
      "Epoch: 5000 | cost: 1.390384 | time: 0m 0s\n",
      "Epoch: 6000 | cost: 2.252336 | time: 0m 0s\n",
      "Epoch: 7000 | cost: 1.241812 | time: 0m 0s\n",
      "Epoch: 8000 | cost: 1.133933 | time: 0m 0s\n",
      "Epoch: 9000 | cost: 2.721428 | time: 0m 0s\n",
      "Epoch: 10000 | cost: 2.375901 | time: 0m 0s\n"
     ]
    }
   ],
   "source": [
    "import time\n",
    "\n",
    "start_train_time = time.time()\n",
    "\n",
    "# Training\n",
    "num_epochs = 10000\n",
    "for epoch in range(num_epochs):\n",
    "    \n",
    "    start = time.time()\n",
    "    \n",
    "    input_batch, target_batch = random_batch(batch_size, corpus, 2)\n",
    "    \n",
    "    #input_batch: [batch_size, 1]\n",
    "    input_batch = torch.LongTensor(input_batch)\n",
    "    \n",
    "    #target_batch: [batch_size, 1]\n",
    "    target_batch = torch.LongTensor(target_batch)\n",
    "    \n",
    "    #negs_batch:   [batch_size, num_neg]\n",
    "    negs_batch = negative_sampling(target_batch, unigram_table, num_neg)\n",
    "    \n",
    "    optimizer.zero_grad()\n",
    "        \n",
    "    loss = model(input_batch, target_batch, negs_batch)\n",
    "    \n",
    "    end = time.time()\n",
    "    \n",
    "    epoch_mins, epoch_secs = epoch_time(start, end)\n",
    "    \n",
    "    loss.backward()\n",
    "    optimizer.step()\n",
    "\n",
    "    if (epoch + 1) % 1000 == 0:\n",
    "        print(f\"Epoch: {epoch + 1} | cost: {loss:.6f} | time: {epoch_mins}m {epoch_secs}s\")"
   ]
  },
  {
   "cell_type": "code",
   "execution_count": 51,
   "metadata": {},
   "outputs": [
    {
     "data": {
      "image/png": "[encoded data removed]",
      "text/plain": [
       "<Figure size 432x216 with 1 Axes>"
      ]
     },
     "metadata": {
      "needs_background": "light"
     },
     "output_type": "display_data"
    }
   ],
   "source": [
    "plt.figure(figsize=(6,3))\n",
    "for i, word in enumerate(vocab[:20]): #loop each unique vocab\n",
    "    x, y = get_embed(word)\n",
    "    plt.scatter(x, y)\n",
    "    plt.annotate(word, xy=(x, y), xytext=(5, 2), textcoords='offset points')\n",
    "plt.title('Skipgram with Negative Sampling')\n",
    "plt.show()"
   ]
  },
  {
   "cell_type": "code",
   "execution_count": null,
   "metadata": {},
   "outputs": [],
   "source": []
  }
 ],
 "metadata": {
  "kernelspec": {
   "display_name": "Python 3",
   "language": "python",
   "name": "python3"
  },
  "language_info": {
   "codemirror_mode": {
    "name": "ipython",
    "version": 3
   },
   "file_extension": ".py",
   "mimetype": "text/x-python",
   "name": "python",
   "nbconvert_exporter": "python",
   "pygments_lexer": "ipython3",
   "version": "3.9.13"
  },
  "orig_nbformat": 4,
  "vscode": {
   "interpreter": {
    "hash": "bb0cb95bfde73c68cb05ded0c6f48850cf566e0c9ce35e8d90131e8707a36ff6"
   }
  }
 },
 "nbformat": 4,
 "nbformat_minor": 2
}
